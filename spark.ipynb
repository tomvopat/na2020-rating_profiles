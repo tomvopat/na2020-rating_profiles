{
 "cells": [
  {
   "cell_type": "code",
   "execution_count": 1,
   "metadata": {},
   "outputs": [],
   "source": [
    "from graphframes import *\n"
   ]
  },
  {
   "cell_type": "code",
   "execution_count": 2,
   "metadata": {},
   "outputs": [],
   "source": [
    "from pyspark import *\n",
    "from pyspark.sql import *\n",
    "\n",
    "spark = SparkSession.builder.appName('network-analysis').getOrCreate()\n",
    "\n",
    "df = spark.read.format(\"csv\").option(\"header\", True).load(\"/Users/teemu/git_projects/koulu/na2020-rating_profiles/data/df.csv\")\n",
    "\n",
    "df = df.withColumnRenamed('user_id', 'id')"
   ]
  },
  {
   "cell_type": "code",
   "execution_count": 3,
   "metadata": {},
   "outputs": [
    {
     "name": "stdout",
     "output_type": "stream",
     "text": [
      "+---+-----------+--------------+-------------+-------------+\n",
      "| id|user_gender|rating_profile|rating_gender|rating_weight|\n",
      "+---+-----------+--------------+-------------+-------------+\n",
      "|  1|          F|           133|            M|            8|\n",
      "|  1|          F|           720|            F|            6|\n",
      "|  1|          F|           971|            M|           10|\n",
      "|  1|          F|          1095|            M|            7|\n",
      "|  1|          F|          1616|            M|           10|\n",
      "|  1|          F|          1978|            M|            7|\n",
      "|  1|          F|          2145|            M|            8|\n",
      "|  1|          F|          2211|            M|            8|\n",
      "|  1|          F|          3751|            M|            7|\n",
      "|  1|          F|          4062|            M|            3|\n",
      "|  1|          F|          4633|            M|           10|\n",
      "|  1|          F|          4842|            M|            5|\n",
      "|  1|          F|          6518|            F|            6|\n",
      "|  1|          F|          7576|            M|            8|\n",
      "|  1|          F|          7724|            M|            7|\n",
      "|  1|          F|          8305|            M|           10|\n",
      "|  1|          F|          8923|            M|            9|\n",
      "|  1|          F|          9345|            M|           10|\n",
      "|  1|          F|          9729|            M|           10|\n",
      "|  1|          F|         10148|            M|           10|\n",
      "+---+-----------+--------------+-------------+-------------+\n",
      "only showing top 20 rows\n",
      "\n"
     ]
    }
   ],
   "source": [
    "df.show()"
   ]
  },
  {
   "cell_type": "code",
   "execution_count": 4,
   "metadata": {},
   "outputs": [],
   "source": [
    "#df.filter($\"id\" < 1000)\n",
    "df = df.filter(df.id < 500)"
   ]
  },
  {
   "cell_type": "code",
   "execution_count": 5,
   "metadata": {},
   "outputs": [],
   "source": [
    "edges = df.select('id', 'rating_profile').withColumnRenamed('id', 'src').withColumnRenamed('rating_profile', 'dst')\n",
    "\n",
    "#df = df.drop('rating_profile')"
   ]
  },
  {
   "cell_type": "code",
   "execution_count": 6,
   "metadata": {},
   "outputs": [
    {
     "name": "stdout",
     "output_type": "stream",
     "text": [
      "+---+-----+\n",
      "|src|  dst|\n",
      "+---+-----+\n",
      "|  1|  133|\n",
      "|  1|  720|\n",
      "|  1|  971|\n",
      "|  1| 1095|\n",
      "|  1| 1616|\n",
      "|  1| 1978|\n",
      "|  1| 2145|\n",
      "|  1| 2211|\n",
      "|  1| 3751|\n",
      "|  1| 4062|\n",
      "|  1| 4633|\n",
      "|  1| 4842|\n",
      "|  1| 6518|\n",
      "|  1| 7576|\n",
      "|  1| 7724|\n",
      "|  1| 8305|\n",
      "|  1| 8923|\n",
      "|  1| 9345|\n",
      "|  1| 9729|\n",
      "|  1|10148|\n",
      "+---+-----+\n",
      "only showing top 20 rows\n",
      "\n"
     ]
    }
   ],
   "source": [
    "edges.show()"
   ]
  },
  {
   "cell_type": "code",
   "execution_count": 7,
   "metadata": {},
   "outputs": [
    {
     "name": "stdout",
     "output_type": "stream",
     "text": [
      "+------+--------+\n",
      "|    id|inDegree|\n",
      "+------+--------+\n",
      "| 93893|       1|\n",
      "| 59318|       3|\n",
      "| 81355|       2|\n",
      "|  2294|       5|\n",
      "|  4937|       6|\n",
      "| 11722|       1|\n",
      "| 13865|       1|\n",
      "| 18314|       2|\n",
      "| 18634|       2|\n",
      "| 35350|       2|\n",
      "| 39457|       3|\n",
      "| 41998|       2|\n",
      "| 48078|       2|\n",
      "| 61819|       2|\n",
      "| 64985|       3|\n",
      "| 66401|       1|\n",
      "| 67896|       1|\n",
      "| 78888|       1|\n",
      "| 88277|       2|\n",
      "|103050|       4|\n",
      "+------+--------+\n",
      "only showing top 20 rows\n",
      "\n"
     ]
    }
   ],
   "source": [
    "G = GraphFrame(df, edges)\n",
    "\n",
    "G.inDegrees.show()"
   ]
  },
  {
   "cell_type": "markdown",
   "metadata": {},
   "source": [
    "# PageRank"
   ]
  },
  {
   "cell_type": "code",
   "execution_count": 8,
   "metadata": {},
   "outputs": [],
   "source": [
    "pagernk = G.pageRank(resetProbability=0.01, maxIter=10)"
   ]
  },
  {
   "cell_type": "code",
   "execution_count": 9,
   "metadata": {},
   "outputs": [
    {
     "name": "stdout",
     "output_type": "stream",
     "text": [
      "+---+------------------+\n",
      "| id|          pagerank|\n",
      "+---+------------------+\n",
      "|356|0.4338257328124394|\n",
      "|356|0.4338257328124394|\n",
      "|356|0.4338257328124394|\n",
      "|356|0.4338257328124394|\n",
      "|356|0.4338257328124394|\n",
      "|356|0.4338257328124394|\n",
      "|356|0.4338257328124394|\n",
      "|356|0.4338257328124394|\n",
      "|356|0.4338257328124394|\n",
      "|356|0.4338257328124394|\n",
      "|356|0.4338257328124394|\n",
      "|356|0.4338257328124394|\n",
      "|356|0.4338257328124394|\n",
      "|356|0.4338257328124394|\n",
      "|356|0.4338257328124394|\n",
      "|356|0.4338257328124394|\n",
      "|356|0.4338257328124394|\n",
      "|356|0.4338257328124394|\n",
      "|356|0.4338257328124394|\n",
      "|356|0.4338257328124394|\n",
      "+---+------------------+\n",
      "only showing top 20 rows\n",
      "\n"
     ]
    }
   ],
   "source": [
    "pagernk.vertices.select(\"id\", \"pagerank\").show()"
   ]
  },
  {
   "cell_type": "code",
   "execution_count": 10,
   "metadata": {},
   "outputs": [],
   "source": [
    "pagernk2 = pagernk.vertices.drop_duplicates(subset=['id'])"
   ]
  },
  {
   "cell_type": "code",
   "execution_count": 12,
   "metadata": {},
   "outputs": [
    {
     "name": "stdout",
     "output_type": "stream",
     "text": [
      "+---+-----------+--------------+-------------+-------------+------------------+\n",
      "| id|user_gender|rating_profile|rating_gender|rating_weight|          pagerank|\n",
      "+---+-----------+--------------+-------------+-------------+------------------+\n",
      "|296|          M|          2077|            F|           10|0.4338257328124394|\n",
      "|467|          M|           466|            F|            8|0.4338257328124394|\n",
      "|125|          U|          1721|            F|            5|0.4338257328124394|\n",
      "|451|          F|          1429|            M|            5|0.4338257328124394|\n",
      "|124|          M|         13906|            F|            2|0.4338257328124394|\n",
      "|447|          F|           483|            M|            6|0.4338257328124394|\n",
      "| 51|          M|          1585|            F|            5|0.4338257328124394|\n",
      "|  7|          F|           328|            M|            5|0.4338257328124394|\n",
      "|307|          F|           973|            M|            7|0.4338257328124394|\n",
      "|475|          F|           295|            M|            7|0.4338257328124394|\n",
      "|169|          M|          7577|            F|            7|0.4338257328124394|\n",
      "|205|          M|          4685|            F|            1|0.4338257328124394|\n",
      "|334|          M|          2934|            F|            2|0.4338257328124394|\n",
      "|272|          F|           261|            M|            5|0.4338257328124394|\n",
      "|442|          M|           963|            F|            6|0.4338257328124394|\n",
      "|462|          U|          8415|            F|            4|0.4338257328124394|\n",
      "|470|          M|         10390|            M|           10|0.4338257328124394|\n",
      "| 15|          U|            58|            F|            5|0.4338257328124394|\n",
      "|232|          M|           374|            F|            3|0.4338257328124394|\n",
      "|234|          M|          1721|            F|            5|0.4338257328124394|\n",
      "+---+-----------+--------------+-------------+-------------+------------------+\n",
      "only showing top 20 rows\n",
      "\n"
     ]
    }
   ],
   "source": [
    "pagernk2.show()"
   ]
  },
  {
   "cell_type": "code",
   "execution_count": 19,
   "metadata": {},
   "outputs": [
    {
     "data": {
      "text/plain": [
       "[489, 2, 1, 1, 0, 2, 0, 0, 0, 0, 0, 0, 0, 0, 2, 0, 1, 0, 0, 1]"
      ]
     },
     "execution_count": 19,
     "metadata": {},
     "output_type": "execute_result"
    }
   ],
   "source": [
    "counts"
   ]
  },
  {
   "cell_type": "code",
   "execution_count": 20,
   "metadata": {},
   "outputs": [
    {
     "data": {
      "text/plain": [
       "(array([489.,   2.,   1.,   1.,   0.,   2.,   0.,   0.,   0.,   0.,   0.,\n",
       "          0.,   0.,   0.,   2.,   0.,   1.,   0.,   0.,   1.]),\n",
       " array([ 0.43382573,  3.35979095,  6.28575617,  9.21172139, 12.1376866 ,\n",
       "        15.06365182, 17.98961704, 20.91558226, 23.84154748, 26.76751269,\n",
       "        29.69347791, 32.61944313, 35.54540835, 38.47137356, 41.39733878,\n",
       "        44.323304  , 47.24926922, 50.17523444, 53.10119965, 56.02716487,\n",
       "        58.95313009]),\n",
       " <a list of 20 Patch objects>)"
      ]
     },
     "execution_count": 20,
     "metadata": {},
     "output_type": "execute_result"
    },
    {
     "data": {
      "image/png": "[encoded data removed]",
      "text/plain": [
       "<Figure size 432x288 with 1 Axes>"
      ]
     },
     "metadata": {},
     "output_type": "display_data"
    }
   ],
   "source": [
    "import matplotlib.pyplot as plt\n",
    "import numpy as np\n",
    "\n",
    "bins, counts = pagernk2.select('pagerank').rdd.flatMap(lambda x: x).histogram(20)\n",
    "\n",
    "plt.hist(bins[:-1], bins=bins, weights=counts)"
   ]
  },
  {
   "cell_type": "markdown",
   "metadata": {},
   "source": [
    "# Connected components"
   ]
  },
  {
   "cell_type": "code",
   "execution_count": 37,
   "metadata": {},
   "outputs": [
    {
     "ename": "Py4JJavaError",
     "evalue": "An error occurred while calling o436.run.\n: java.io.IOException: Checkpoint directory is not set. Please set it first using sc.setCheckpointDir().\n\tat org.graphframes.lib.ConnectedComponents$$anonfun$2.apply(ConnectedComponents.scala:296)\n\tat org.graphframes.lib.ConnectedComponents$$anonfun$2.apply(ConnectedComponents.scala:296)\n\tat scala.Option.getOrElse(Option.scala:121)\n\tat org.graphframes.lib.ConnectedComponents$.org$graphframes$lib$ConnectedComponents$$run(ConnectedComponents.scala:295)\n\tat org.graphframes.lib.ConnectedComponents.run(ConnectedComponents.scala:154)\n\tat sun.reflect.NativeMethodAccessorImpl.invoke0(Native Method)\n\tat sun.reflect.NativeMethodAccessorImpl.invoke(NativeMethodAccessorImpl.java:62)\n\tat sun.reflect.DelegatingMethodAccessorImpl.invoke(DelegatingMethodAccessorImpl.java:43)\n\tat java.lang.reflect.Method.invoke(Method.java:498)\n\tat py4j.reflection.MethodInvoker.invoke(MethodInvoker.java:244)\n\tat py4j.reflection.ReflectionEngine.invoke(ReflectionEngine.java:357)\n\tat py4j.Gateway.invoke(Gateway.java:282)\n\tat py4j.commands.AbstractCommand.invokeMethod(AbstractCommand.java:132)\n\tat py4j.commands.CallCommand.execute(CallCommand.java:79)\n\tat py4j.GatewayConnection.run(GatewayConnection.java:238)\n\tat java.lang.Thread.run(Thread.java:748)\n",
     "output_type": "error",
     "traceback": [
      "\u001b[0;31m---------------------------------------------------------------------------\u001b[0m",
      "\u001b[0;31mPy4JJavaError\u001b[0m                             Traceback (most recent call last)",
      "\u001b[0;32m<ipython-input-37-535edd2e3e45>\u001b[0m in \u001b[0;36m<module>\u001b[0;34m()\u001b[0m\n\u001b[0;32m----> 1\u001b[0;31m \u001b[0mconnc\u001b[0m \u001b[0;34m=\u001b[0m \u001b[0mG\u001b[0m\u001b[0;34m.\u001b[0m\u001b[0mconnectedComponents\u001b[0m\u001b[0;34m(\u001b[0m\u001b[0;34m)\u001b[0m\u001b[0;34m\u001b[0m\u001b[0;34m\u001b[0m\u001b[0m\n\u001b[0m\u001b[1;32m      2\u001b[0m \u001b[0mconnc_res\u001b[0m\u001b[0;34m.\u001b[0m\u001b[0mselect\u001b[0m\u001b[0;34m(\u001b[0m\u001b[0;34m\"id\"\u001b[0m\u001b[0;34m,\u001b[0m \u001b[0;34m\"component\"\u001b[0m\u001b[0;34m)\u001b[0m\u001b[0;34m.\u001b[0m\u001b[0morderBy\u001b[0m\u001b[0;34m(\u001b[0m\u001b[0;34m\"component\"\u001b[0m\u001b[0;34m)\u001b[0m\u001b[0;34m.\u001b[0m\u001b[0mshow\u001b[0m\u001b[0;34m(\u001b[0m\u001b[0;34m)\u001b[0m\u001b[0;34m\u001b[0m\u001b[0;34m\u001b[0m\u001b[0m\n",
      "\u001b[0;32m/private/var/folders/90/ngqnxmxn6sdf14zwv_74g9y00000gn/T/spark-6f97c471-b685-411c-a66e-4b4bdec279c5/userFiles-ed45d96b-2f91-408f-bd8c-8e076b79b2c7/graphframes_graphframes-0.7.0-spark2.4-s_2.11.jar/graphframes/graphframe.py\u001b[0m in \u001b[0;36mconnectedComponents\u001b[0;34m(self, algorithm, checkpointInterval, broadcastThreshold)\u001b[0m\n\u001b[1;32m    328\u001b[0m             \u001b[0;34m.\u001b[0m\u001b[0msetAlgorithm\u001b[0m\u001b[0;34m(\u001b[0m\u001b[0malgorithm\u001b[0m\u001b[0;34m)\u001b[0m\u001b[0;31m \u001b[0m\u001b[0;31m\\\u001b[0m\u001b[0;34m\u001b[0m\u001b[0;34m\u001b[0m\u001b[0m\n\u001b[1;32m    329\u001b[0m             \u001b[0;34m.\u001b[0m\u001b[0msetCheckpointInterval\u001b[0m\u001b[0;34m(\u001b[0m\u001b[0mcheckpointInterval\u001b[0m\u001b[0;34m)\u001b[0m\u001b[0;31m \u001b[0m\u001b[0;31m\\\u001b[0m\u001b[0;34m\u001b[0m\u001b[0;34m\u001b[0m\u001b[0m\n\u001b[0;32m--> 330\u001b[0;31m             \u001b[0;34m.\u001b[0m\u001b[0msetBroadcastThreshold\u001b[0m\u001b[0;34m(\u001b[0m\u001b[0mbroadcastThreshold\u001b[0m\u001b[0;34m)\u001b[0m\u001b[0;31m \u001b[0m\u001b[0;31m\\\u001b[0m\u001b[0;34m\u001b[0m\u001b[0;34m\u001b[0m\u001b[0m\n\u001b[0m\u001b[1;32m    331\u001b[0m             \u001b[0;34m.\u001b[0m\u001b[0mrun\u001b[0m\u001b[0;34m(\u001b[0m\u001b[0;34m)\u001b[0m\u001b[0;34m\u001b[0m\u001b[0;34m\u001b[0m\u001b[0m\n\u001b[1;32m    332\u001b[0m         \u001b[0;32mreturn\u001b[0m \u001b[0mDataFrame\u001b[0m\u001b[0;34m(\u001b[0m\u001b[0mjdf\u001b[0m\u001b[0;34m,\u001b[0m \u001b[0mself\u001b[0m\u001b[0;34m.\u001b[0m\u001b[0m_sqlContext\u001b[0m\u001b[0;34m)\u001b[0m\u001b[0;34m\u001b[0m\u001b[0;34m\u001b[0m\u001b[0m\n",
      "\u001b[0;32m/usr/local/Cellar/apache-spark/2.4.4/libexec/python/lib/py4j-0.10.7-src.zip/py4j/java_gateway.py\u001b[0m in \u001b[0;36m__call__\u001b[0;34m(self, *args)\u001b[0m\n\u001b[1;32m   1255\u001b[0m         \u001b[0manswer\u001b[0m \u001b[0;34m=\u001b[0m \u001b[0mself\u001b[0m\u001b[0;34m.\u001b[0m\u001b[0mgateway_client\u001b[0m\u001b[0;34m.\u001b[0m\u001b[0msend_command\u001b[0m\u001b[0;34m(\u001b[0m\u001b[0mcommand\u001b[0m\u001b[0;34m)\u001b[0m\u001b[0;34m\u001b[0m\u001b[0;34m\u001b[0m\u001b[0m\n\u001b[1;32m   1256\u001b[0m         return_value = get_return_value(\n\u001b[0;32m-> 1257\u001b[0;31m             answer, self.gateway_client, self.target_id, self.name)\n\u001b[0m\u001b[1;32m   1258\u001b[0m \u001b[0;34m\u001b[0m\u001b[0m\n\u001b[1;32m   1259\u001b[0m         \u001b[0;32mfor\u001b[0m \u001b[0mtemp_arg\u001b[0m \u001b[0;32min\u001b[0m \u001b[0mtemp_args\u001b[0m\u001b[0;34m:\u001b[0m\u001b[0;34m\u001b[0m\u001b[0;34m\u001b[0m\u001b[0m\n",
      "\u001b[0;32m/usr/local/Cellar/apache-spark/2.4.4/libexec/python/pyspark/sql/utils.py\u001b[0m in \u001b[0;36mdeco\u001b[0;34m(*a, **kw)\u001b[0m\n\u001b[1;32m     61\u001b[0m     \u001b[0;32mdef\u001b[0m \u001b[0mdeco\u001b[0m\u001b[0;34m(\u001b[0m\u001b[0;34m*\u001b[0m\u001b[0ma\u001b[0m\u001b[0;34m,\u001b[0m \u001b[0;34m**\u001b[0m\u001b[0mkw\u001b[0m\u001b[0;34m)\u001b[0m\u001b[0;34m:\u001b[0m\u001b[0;34m\u001b[0m\u001b[0;34m\u001b[0m\u001b[0m\n\u001b[1;32m     62\u001b[0m         \u001b[0;32mtry\u001b[0m\u001b[0;34m:\u001b[0m\u001b[0;34m\u001b[0m\u001b[0;34m\u001b[0m\u001b[0m\n\u001b[0;32m---> 63\u001b[0;31m             \u001b[0;32mreturn\u001b[0m \u001b[0mf\u001b[0m\u001b[0;34m(\u001b[0m\u001b[0;34m*\u001b[0m\u001b[0ma\u001b[0m\u001b[0;34m,\u001b[0m \u001b[0;34m**\u001b[0m\u001b[0mkw\u001b[0m\u001b[0;34m)\u001b[0m\u001b[0;34m\u001b[0m\u001b[0;34m\u001b[0m\u001b[0m\n\u001b[0m\u001b[1;32m     64\u001b[0m         \u001b[0;32mexcept\u001b[0m \u001b[0mpy4j\u001b[0m\u001b[0;34m.\u001b[0m\u001b[0mprotocol\u001b[0m\u001b[0;34m.\u001b[0m\u001b[0mPy4JJavaError\u001b[0m \u001b[0;32mas\u001b[0m \u001b[0me\u001b[0m\u001b[0;34m:\u001b[0m\u001b[0;34m\u001b[0m\u001b[0;34m\u001b[0m\u001b[0m\n\u001b[1;32m     65\u001b[0m             \u001b[0ms\u001b[0m \u001b[0;34m=\u001b[0m \u001b[0me\u001b[0m\u001b[0;34m.\u001b[0m\u001b[0mjava_exception\u001b[0m\u001b[0;34m.\u001b[0m\u001b[0mtoString\u001b[0m\u001b[0;34m(\u001b[0m\u001b[0;34m)\u001b[0m\u001b[0;34m\u001b[0m\u001b[0;34m\u001b[0m\u001b[0m\n",
      "\u001b[0;32m/usr/local/Cellar/apache-spark/2.4.4/libexec/python/lib/py4j-0.10.7-src.zip/py4j/protocol.py\u001b[0m in \u001b[0;36mget_return_value\u001b[0;34m(answer, gateway_client, target_id, name)\u001b[0m\n\u001b[1;32m    326\u001b[0m                 raise Py4JJavaError(\n\u001b[1;32m    327\u001b[0m                     \u001b[0;34m\"An error occurred while calling {0}{1}{2}.\\n\"\u001b[0m\u001b[0;34m.\u001b[0m\u001b[0;34m\u001b[0m\u001b[0;34m\u001b[0m\u001b[0m\n\u001b[0;32m--> 328\u001b[0;31m                     format(target_id, \".\", name), value)\n\u001b[0m\u001b[1;32m    329\u001b[0m             \u001b[0;32melse\u001b[0m\u001b[0;34m:\u001b[0m\u001b[0;34m\u001b[0m\u001b[0;34m\u001b[0m\u001b[0m\n\u001b[1;32m    330\u001b[0m                 raise Py4JError(\n",
      "\u001b[0;31mPy4JJavaError\u001b[0m: An error occurred while calling o436.run.\n: java.io.IOException: Checkpoint directory is not set. Please set it first using sc.setCheckpointDir().\n\tat org.graphframes.lib.ConnectedComponents$$anonfun$2.apply(ConnectedComponents.scala:296)\n\tat org.graphframes.lib.ConnectedComponents$$anonfun$2.apply(ConnectedComponents.scala:296)\n\tat scala.Option.getOrElse(Option.scala:121)\n\tat org.graphframes.lib.ConnectedComponents$.org$graphframes$lib$ConnectedComponents$$run(ConnectedComponents.scala:295)\n\tat org.graphframes.lib.ConnectedComponents.run(ConnectedComponents.scala:154)\n\tat sun.reflect.NativeMethodAccessorImpl.invoke0(Native Method)\n\tat sun.reflect.NativeMethodAccessorImpl.invoke(NativeMethodAccessorImpl.java:62)\n\tat sun.reflect.DelegatingMethodAccessorImpl.invoke(DelegatingMethodAccessorImpl.java:43)\n\tat java.lang.reflect.Method.invoke(Method.java:498)\n\tat py4j.reflection.MethodInvoker.invoke(MethodInvoker.java:244)\n\tat py4j.reflection.ReflectionEngine.invoke(ReflectionEngine.java:357)\n\tat py4j.Gateway.invoke(Gateway.java:282)\n\tat py4j.commands.AbstractCommand.invokeMethod(AbstractCommand.java:132)\n\tat py4j.commands.CallCommand.execute(CallCommand.java:79)\n\tat py4j.GatewayConnection.run(GatewayConnection.java:238)\n\tat java.lang.Thread.run(Thread.java:748)\n"
     ]
    }
   ],
   "source": [
    "connc = G.connectedComponents()\n",
    "connc_res.select(\"id\", \"component\").orderBy(\"component\").show()"
   ]
  },
  {
   "cell_type": "markdown",
   "metadata": {},
   "source": [
    "# Strongly connected components"
   ]
  },
  {
   "cell_type": "code",
   "execution_count": 35,
   "metadata": {},
   "outputs": [
    {
     "name": "stdout",
     "output_type": "stream",
     "text": [
      "+---+-----------+\n",
      "| id|  component|\n",
      "+---+-----------+\n",
      "| 51|25769803776|\n",
      "| 51|25769803776|\n",
      "| 51|25769803776|\n",
      "| 51|25769803776|\n",
      "| 51|25769803776|\n",
      "| 51|25769803776|\n",
      "| 51|25769803776|\n",
      "| 51|25769803776|\n",
      "| 51|25769803776|\n",
      "| 51|25769803776|\n",
      "| 51|25769803776|\n",
      "| 51|25769803776|\n",
      "| 51|25769803776|\n",
      "| 51|25769803776|\n",
      "| 51|25769803776|\n",
      "| 51|25769803776|\n",
      "|  7|25769803777|\n",
      "|  7|25769803777|\n",
      "|  7|25769803777|\n",
      "|  7|25769803777|\n",
      "+---+-----------+\n",
      "only showing top 20 rows\n",
      "\n"
     ]
    }
   ],
   "source": [
    "strong = G.stronglyConnectedComponents(maxIter=10)\n",
    "strong.select(\"id\", \"component\").orderBy(\"component\").show()"
   ]
  },
  {
   "cell_type": "code",
   "execution_count": 36,
   "metadata": {},
   "outputs": [
    {
     "data": {
      "text/plain": [
       "(array([ 193., 1272.,  199.,  701.,  519.,  338.,  247.,  135.,  655.,\n",
       "         320.,   82.,  285.,   50.,  188., 3322.,  124.,  606.,  116.,\n",
       "         320.,  263.]),\n",
       " array([2.57698038e+10, 1.08662673e+11, 1.91555541e+11, 2.74448410e+11,\n",
       "        3.57341279e+11, 4.40234148e+11, 5.23127017e+11, 6.06019885e+11,\n",
       "        6.88912754e+11, 7.71805623e+11, 8.54698492e+11, 9.37591361e+11,\n",
       "        1.02048423e+12, 1.10337710e+12, 1.18626997e+12, 1.26916284e+12,\n",
       "        1.35205570e+12, 1.43494857e+12, 1.51784144e+12, 1.60073431e+12,\n",
       "        1.68362718e+12]),\n",
       " <a list of 20 Patch objects>)"
      ]
     },
     "execution_count": 36,
     "metadata": {},
     "output_type": "execute_result"
    },
    {
     "data": {
      "image/png": "[encoded data removed]",
      "text/plain": [
       "<Figure size 432x288 with 1 Axes>"
      ]
     },
     "metadata": {},
     "output_type": "display_data"
    }
   ],
   "source": [
    "import matplotlib.pyplot as plt\n",
    "\n",
    "bins, counts = strong.select('component').rdd.flatMap(lambda x: x).histogram(20)\n",
    "\n",
    "plt.hist(bins[:-1], bins=bins, weights=counts)"
   ]
  },
  {
   "cell_type": "markdown",
   "metadata": {},
   "source": [
    "# Label Propagation Algorithm (LPA)"
   ]
  },
  {
   "cell_type": "code",
   "execution_count": 38,
   "metadata": {},
   "outputs": [
    {
     "name": "stdout",
     "output_type": "stream",
     "text": [
      "+---+------------+\n",
      "| id|       label|\n",
      "+---+------------+\n",
      "| 42|128849018880|\n",
      "| 42|128849018880|\n",
      "| 42|128849018880|\n",
      "| 42|128849018880|\n",
      "| 42|128849018880|\n",
      "| 42|128849018880|\n",
      "| 42|128849018880|\n",
      "| 42|128849018880|\n",
      "| 42|128849018880|\n",
      "| 42|128849018880|\n",
      "| 42|128849018880|\n",
      "| 42|128849018880|\n",
      "| 42|128849018880|\n",
      "| 42|128849018880|\n",
      "| 42|128849018880|\n",
      "| 42|128849018880|\n",
      "| 42|128849018880|\n",
      "| 42|128849018880|\n",
      "| 42|128849018880|\n",
      "| 42|128849018880|\n",
      "+---+------------+\n",
      "only showing top 20 rows\n",
      "\n"
     ]
    }
   ],
   "source": [
    "label = G.labelPropagation(maxIter=5)\n",
    "label.select(\"id\", \"label\").show()"
   ]
  },
  {
   "cell_type": "code",
   "execution_count": 39,
   "metadata": {},
   "outputs": [
    {
     "data": {
      "text/plain": [
       "(array([ 219.,  428.,  199.,  701.,  359.,  324.,  247.,  104., 3390.,\n",
       "         480.,   82.,  194.,   50.,  284.,  766.,  124.,  517.,  116.,\n",
       "         320., 1031.]),\n",
       " array([2.57698038e+10, 1.08662673e+11, 1.91555541e+11, 2.74448410e+11,\n",
       "        3.57341279e+11, 4.40234148e+11, 5.23127017e+11, 6.06019885e+11,\n",
       "        6.88912754e+11, 7.71805623e+11, 8.54698492e+11, 9.37591361e+11,\n",
       "        1.02048423e+12, 1.10337710e+12, 1.18626997e+12, 1.26916284e+12,\n",
       "        1.35205570e+12, 1.43494857e+12, 1.51784144e+12, 1.60073431e+12,\n",
       "        1.68362718e+12]),\n",
       " <a list of 20 Patch objects>)"
      ]
     },
     "execution_count": 39,
     "metadata": {},
     "output_type": "execute_result"
    },
    {
     "data": {
      "image/png": "[encoded data removed]",
      "text/plain": [
       "<Figure size 432x288 with 1 Axes>"
      ]
     },
     "metadata": {},
     "output_type": "display_data"
    }
   ],
   "source": [
    "import matplotlib.pyplot as plt\n",
    "\n",
    "# Show histogram of the 'C1' column\n",
    "bins, counts = label.select('label').rdd.flatMap(lambda x: x).histogram(20)\n",
    "\n",
    "# This is a bit awkward but I believe this is the correct way to do it \n",
    "plt.hist(bins[:-1], bins=bins, weights=counts)"
   ]
  },
  {
   "cell_type": "markdown",
   "metadata": {},
   "source": [
    "# Triangle count"
   ]
  },
  {
   "cell_type": "code",
   "execution_count": 40,
   "metadata": {},
   "outputs": [
    {
     "name": "stdout",
     "output_type": "stream",
     "text": [
      "+---+-----+\n",
      "| id|count|\n",
      "+---+-----+\n",
      "| 51|    0|\n",
      "| 51|    0|\n",
      "| 51|    0|\n",
      "| 51|    0|\n",
      "| 51|    0|\n",
      "| 51|    0|\n",
      "| 51|    0|\n",
      "| 51|    0|\n",
      "| 51|    0|\n",
      "| 51|    0|\n",
      "| 51|    0|\n",
      "| 51|    0|\n",
      "| 51|    0|\n",
      "| 51|    0|\n",
      "| 51|    0|\n",
      "| 51|    0|\n",
      "|  7|    0|\n",
      "|  7|    0|\n",
      "|  7|    0|\n",
      "|  7|    0|\n",
      "+---+-----+\n",
      "only showing top 20 rows\n",
      "\n"
     ]
    }
   ],
   "source": [
    "triangles = G.triangleCount()\n",
    "triangles.select(\"id\", \"count\").show()"
   ]
  },
  {
   "cell_type": "code",
   "execution_count": 42,
   "metadata": {},
   "outputs": [
    {
     "data": {
      "text/plain": [
       "(array([9935.]), array([0, 0]), <a list of 1 Patch objects>)"
      ]
     },
     "execution_count": 42,
     "metadata": {},
     "output_type": "execute_result"
    },
    {
     "data": {
      "image/png": "[encoded data removed]",
      "text/plain": [
       "<Figure size 432x288 with 1 Axes>"
      ]
     },
     "metadata": {},
     "output_type": "display_data"
    }
   ],
   "source": [
    "import matplotlib.pyplot as plt\n",
    "\n",
    "bins, counts = triangles.select('count').rdd.flatMap(lambda x: x).histogram(20)\n",
    "\n",
    "plt.hist(bins[:-1], bins=bins, weights=counts)"
   ]
  },
  {
   "cell_type": "code",
   "execution_count": 20,
   "metadata": {
    "scrolled": true
   },
   "outputs": [
    {
     "name": "stdout",
     "output_type": "stream",
     "text": [
      "+------------------+\n",
      "|     min(pagerank)|\n",
      "+------------------+\n",
      "|0.9317146873742486|\n",
      "+------------------+\n",
      "\n"
     ]
    }
   ],
   "source": [
    "res2.groupby().min('pagerank').show()"
   ]
  },
  {
   "cell_type": "code",
   "execution_count": 19,
   "metadata": {
    "scrolled": true
   },
   "outputs": [
    {
     "name": "stdout",
     "output_type": "stream",
     "text": [
      "+------------------+\n",
      "|     max(pagerank)|\n",
      "+------------------+\n",
      "|2.1575753943228024|\n",
      "+------------------+\n",
      "\n"
     ]
    }
   ],
   "source": [
    "res2.groupby().max('pagerank').show()"
   ]
  },
  {
   "cell_type": "code",
   "execution_count": null,
   "metadata": {},
   "outputs": [],
   "source": [
    "G.vertices.write.parquet(\"hdfs://mydata/vertices\")\n",
    "G.edges.write.parquet(\"hdfs://mydata/edges\")\n",
    "\n",
    "# Load the vertices and edges back.\n",
    "sameV = sqlContext.read.parquet(\"hdfs://mydata/vertices\")\n",
    "sameE = sqlContext.read.parquet(\"hdfs://mydata/edges\")"
   ]
  }
 ],
 "metadata": {
  "kernelspec": {
   "display_name": "Python 3",
   "language": "python",
   "name": "python3"
  },
  "language_info": {
   "codemirror_mode": {
    "name": "ipython",
    "version": 3
   },
   "file_extension": ".py",
   "mimetype": "text/x-python",
   "name": "python",
   "nbconvert_exporter": "python",
   "pygments_lexer": "ipython3",
   "version": "3.7.6"
  }
 },
 "nbformat": 4,
 "nbformat_minor": 2
}
