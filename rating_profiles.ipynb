{
 "cells": [
  {
   "cell_type": "markdown",
   "metadata": {},
   "source": [
    "# Rating Profiles\n",
    "## Network Analysis - University of Helsinki\n",
    "* Teemu Koivisto (teemu.koivisto@helsinki.fi)\n",
    "* Tomáš Vopat (tomas.vopat@helsinki.fi)\n",
    "\n",
    "Dataset: http://www.occamslab.com/petricek/data/"
   ]
  },
  {
   "cell_type": "code",
   "execution_count": null,
   "metadata": {},
   "outputs": [],
   "source": [
    "# imports\n",
    "import numpy as np\n",
    "import networkx as nx\n",
    "import matplotlib\n",
    "import matplotlib.pyplot as plt\n",
    "%matplotlib inline"
   ]
  },
  {
   "cell_type": "code",
   "execution_count": null,
   "metadata": {
    "scrolled": true
   },
   "outputs": [],
   "source": [
    "# loading graph from original file\n",
    "def getGender(string_gender):\n",
    "    if string_gender == \"M\\n\":\n",
    "        return \"male\"\n",
    "    if string_gender == \"F\\n\":\n",
    "        return \"female\"\n",
    "    else:\n",
    "        return \"unknown\"\n",
    "\n",
    "# paths to data files\n",
    "path_ratings = \"data/ratings.dat\"\n",
    "path_gender = \"data/gender.dat\"\n",
    "path_graph = \"data/graph.gexf\"\n",
    "\n",
    "# loading edges + weight\n",
    "graph = nx.read_weighted_edgelist(path_ratings, delimiter = \",\", create_using = nx.DiGraph())\n",
    "\n",
    "# loading node attributes\n",
    "file_gender = open(path_gender, mode = \"rt\")\n",
    "while True:\n",
    "    new_line = file_gender.readline()\n",
    "    if not new_line:\n",
    "        break\n",
    "    data = new_line.split(\",\")\n",
    "    graph.nodes[data[0]][\"gender\"] = getGender(data[1])\n",
    "file_gender.close()"
   ]
  },
  {
   "cell_type": "code",
   "execution_count": null,
   "metadata": {
    "scrolled": true
   },
   "outputs": [],
   "source": [
    "print(\"nodes:\", graph.number_of_nodes())\n",
    "print(\"edges:\", graph.number_of_edges())"
   ]
  }
 ],
 "metadata": {
  "kernelspec": {
   "display_name": "Python 3",
   "language": "python",
   "name": "python3"
  },
  "language_info": {
   "codemirror_mode": {
    "name": "ipython",
    "version": 3
   },
   "file_extension": ".py",
   "mimetype": "text/x-python",
   "name": "python",
   "nbconvert_exporter": "python",
   "pygments_lexer": "ipython3",
   "version": "3.7.6"
  }
 },
 "nbformat": 4,
 "nbformat_minor": 2
}
