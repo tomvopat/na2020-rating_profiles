{
 "cells": [
  {
   "cell_type": "markdown",
   "metadata": {},
   "source": [
    "# Rating Profiles\n",
    "## Network Analysis - University of Helsinki\n",
    "* Teemu Koivisto (teemu.koivisto@helsinki.fi)\n",
    "* Tomáš Vopat (tomas.vopat@helsinki.fi)\n",
    "\n",
    "Dataset: http://www.occamslab.com/petricek/data/"
   ]
  },
  {
   "cell_type": "markdown",
   "metadata": {},
   "source": [
    "# Project description\n",
    "\n",
    "The project plan was to visualize and interpet the profile ratings of dating site users. The data consisted of a directed network with total 135 000 nodes and 17 million edges, with each node (user) having also a categorical variable gender (Female, Male, Unknown). Each rating were given in the scale of 1-10 and the dataset's total size was 245 MBs and 2 MBs respectively.\n",
    "\n",
    "Our initial goals as written in our project plan were to understand how the ratings of the profiles behaved. Meaning in this context what is the effect of the gender to either given or received ratings. Also we were interested in finding out the correlation between received ratings (popularity) to how you are rated and if there was a correlation between them. It would be interesting to know also if given ratings did produce better received ratings for a user. Another interesting question would be to find out the LGBT (lesbian, gay, bisexual, and transgender) users by the ratio which gender they have rated.\n",
    "\n",
    "All the analysis was done using a Jupyter notebook and Python, with some of the visualizations done with Gephi. For running graph algorithms we utilized also Spark but without proper resources we couldn't really utilize it to its full potential.\n",
    "\n",
    "# Analysis\n",
    "\n",
    "First, we spent a lot of time preprocessing and formatting the data. While the original data wasn't large per say, to group the data into specific subsets we needed to add many features to a single dataframe. For this we used Pandas with pain-stakingly hand-crafted logic.\n",
    "\n",
    "After getting this large dataframe of various features we subsetted it into groups based on gender and other features, which we have then visualized as pie charts and histograms. **and some small plottings for communities eg eigen somethings**.\n",
    "\n",
    "The very large amount of edges made deeper graph analysis quite difficult as it was possible to run the algorithms with only a tiny fraction of the data. Thus any subset we used would probably not be a good representative of the dataset as a whole, and their results unreliable. Just visualizing the network itself was quite tedious work, and the fact that the network was directed probably made it even more slower than an undirected graph. We found out through empirical experiments that a network of 15k - 50k edges was the largest possible for visualization using eg Gephi.\n",
    "\n",
    "## Preprocessing\n",
    "\n",
    "The data itself was quite clean and didn't have missing values. Only peculiarities were the \"Unknown\" value for gender categories and some of the ratings were for non-existent profiles.\n",
    "\n",
    "## Overview\n",
    "\n",
    "The users (nodes) themselves were quite neatly evenly distributed amongst into females and males with unknown having 1/10 portion.\n",
    "\n",
    "**pie chart of nodes with gender**\n",
    "\n",
    "Looking at the edges we can see that the men and females also have equal amount of edges going out from them.\n",
    "\n",
    "**pie chart of edges with gender**\n",
    "\n",
    "Going deeper we can then split the ratings into 3 groups, with the thresholds for the different classes as following: 10-6 for **positive** rating, 6-4 for **neutral** and 4-1 for **negative**. Their distribution falls with an overwhelming majority being positive, the other two sharing the rest with 1/4 portions. The mean of all ratings being **ratings mean**.\n",
    "\n",
    "Yet these ratings do not fall evenly on the individual nodes, and some have disproportionately large amount of positive or negative reviews. The rating distributions for the different genders shows that even genders do not give out ratings in perfectly distributed manner. A noticeable anomaly is the high ratings given to some males in the data, here being the highest bar in the histogram:\n",
    "\n",
    "**histograms of gender rating distributions**\n",
    "\n",
    "Taking the means of the ratings of the users and plotting it as a histogram shows that the data indeed follows the Central Limit Theorem and that the distributions of means follow the normal distribution.\n",
    "\n",
    "**histograms of gender rating mean distributions**\n",
    "\n",
    "One can then start to wonder, what is the underlying cause for these kind of fluctuations in the data. Perhaps the users with great images of their faces gain a better rating? And maybe there has to be more than one great image? Or that they have written interesting descriptions of themselves or in some other way, are more interesting than the average user.\n",
    "\n",
    "But however this we cannot infer from this data, alas we can only guess the true indicators for the given ratings. What we can then do however, is to see if there a correlation between popularity (lot of incoming edges) and the average given ratings. This would at least prove that being popular is indeed an indicator for being well-rated in a dating site.\n",
    "\n",
    "Also other interesting questions that came to our minds were, if there could be a way to subset and visualize LGBT (lesbian, gay, bisexual, and transgender) users by which genders they have rated more.\n",
    "\n",
    "## Degree distribution\n",
    "\n",
    "Although the graph was high in edges, its distribution was highly varied. The majority of the users (nodes) had ratings (weighted edges) of only a few dozen. Yet a small portion of users (so-called super nodes) had at best 35 000 out-going edges. This dissimilarity in graph degrees was an interesting phenomenon and we then set out to explore if this would follow a power-law distribution, as it has been often observed in graphs.\n",
    "\n",
    "**picture**\n",
    "\n",
    "Using then a normal Maximum Likelihood Estimator (MLE) model to estimate the power-law degree distribution's parameters we received values: **constant=x, scale=y**. Plotting the fitted probability density function against the dataset's degree disribution histogram (in log-scale) we are able to see, that the degree distribution indeed follows a power-law distribution, albeit the parameter estimates were a bit off and a mixture model might be better suitable. (derp couldn't get that plot to work)\n",
    "\n",
    "**picture of the degree distribution with PDF of fitted MLE power-law distribution model** \n",
    "\n",
    "## Lesbian and gay users\n",
    "\n",
    "Looking at the data we found that there were a smallish subset of users which had rated over 50% more of the other gender than their own. The issue with this method was, that it seems to be quite normal for any user to rate anyone else, so that determining the user's sexuality becomes quite difficult.\n",
    "\n",
    "But using a threshold of 50% we could subset a quite likely proportion of people that are at least somewhat ambiguous in their sexuality. Then splitting them into two categories, based on their true gender so Male and Female we denote them as \"Gay\" and \"Lesbian\" subsets respectively.\n",
    "\n",
    "For these two groups we found... something.\n",
    "\n",
    "**pictures**\n",
    "\n",
    "## Community analysis\n",
    "\n",
    "A complete community analysis of the users was quite impossible with insufficient resources to run the algorithms with the complete dataset. So we instead used some representative subsets of the data, to visualize some proportions of the network and how they are connected."
   ]
  },
  {
   "cell_type": "markdown",
   "metadata": {},
   "source": [
    "## Imports"
   ]
  },
  {
   "cell_type": "code",
   "execution_count": 1,
   "metadata": {},
   "outputs": [],
   "source": [
    "# imports\n",
    "import numpy as np\n",
    "import pandas as pd\n",
    "import networkx as nx\n",
    "import matplotlib\n",
    "import matplotlib.pyplot as plt\n",
    "import seaborn as sns\n",
    "import scipy\n",
    "from scipy.stats import powerlaw\n",
    "from networkx.algorithms import community\n",
    "%matplotlib inline"
   ]
  },
  {
   "cell_type": "markdown",
   "metadata": {},
   "source": [
    "## 1) Data Preprocessing"
   ]
  },
  {
   "cell_type": "code",
   "execution_count": null,
   "metadata": {},
   "outputs": [],
   "source": [
    "# loading files\n",
    "PATH_RATINGS = \"data/ratings.csv\"\n",
    "PATH_GENDER = \"data/gender.csv\"\n",
    "\n",
    "ratings = pd.read_csv(PATH_RATINGS, names=['user_id', 'profile_id', 'rating'])\n",
    "gender = pd.read_csv(PATH_GENDER, names=['user_id', 'gender'])\n",
    "\n",
    "# merging datasets\n",
    "df = pd.merge(ratings, gender, how = \"left\", on = \"user_id\")\n",
    "df = pd.merge(df, gender, how = \"left\", left_on = \"profile_id\", right_on = \"user_id\").drop(\"user_id_y\", axis = 1)\n",
    "df.columns = [\"user_id\", \"rating_profile\", \"rating_weight\", \"user_gender\", \"rating_gender\"]\n",
    "df = df[[\"user_id\", \"user_gender\", \"rating_profile\", \"rating_gender\", \"rating_weight\"]]\n",
    "\n",
    "# converting gender\n",
    "df[\"user_gender\"] = df[\"user_gender\"].astype(\"category\")\n",
    "df[\"rating_gender\"] = df[\"rating_gender\"].astype(\"category\")\n",
    "print(\"user gender vals:\", df[\"user_gender\"].unique())\n",
    "print(\"rating gender vals:\", df[\"rating_gender\"].unique())\n",
    "\n",
    "display(df.info())\n",
    "print(df.nunique())\n",
    "display(df)"
   ]
  },
  {
   "cell_type": "code",
   "execution_count": null,
   "metadata": {},
   "outputs": [],
   "source": [
    "# There are 135,359 profiles in the dataset, but there are 168,791 unique ids of rated profiles. \n",
    "# There are ratings of accounts that do not exist...\n",
    "# Dropping that...\n",
    "\n",
    "max_id = df[\"user_id\"].max()\n",
    "df = df[df[\"rating_profile\"] <= max_id]"
   ]
  },
  {
   "cell_type": "code",
   "execution_count": null,
   "metadata": {
    "scrolled": false
   },
   "outputs": [],
   "source": [
    "# statistics about INCOMING ratings\n",
    "group_profile = df.groupby(by = [\"rating_profile\"])\n",
    "agg_profile = group_profile.agg({\"rating_weight\": \"mean\", \"user_id\": \"nunique\"})\n",
    "agg_profile = agg_profile.reset_index()\n",
    "agg_profile.columns = [\"user_id\", \"inRating_mean\", \"inRating_count\"]\n",
    "\n",
    "group_profile_gender = df.groupby(by = [\"rating_profile\", \"user_gender\"])\n",
    "agg_profile_gender = group_profile_gender.agg({\"rating_weight\": \"mean\", \"user_id\": \"nunique\"})\n",
    "agg_profile_gender = agg_profile_gender.unstack()\n",
    "agg_profile_gender.columns = [\"inRating_mean_female\", \"inRating_mean_male\", \"inRating_mean_unknown\", \"inRating_count_female\", \"inRating_count_male\", \"inRating_count_unknown\"]\n",
    "agg_profile_gender = agg_profile_gender.reset_index()\n",
    "agg_profile_gender = agg_profile_gender.rename({\"rating_profile\": \"user_id\"}, axis = 1)\n",
    "\n",
    "# statistics about OUTGOING ratings\n",
    "group_user = df.groupby(by = [\"user_id\"])\n",
    "agg_user = group_user.agg({\"rating_weight\": \"mean\", \"rating_profile\": \"nunique\"})\n",
    "agg_user = agg_user.reset_index()\n",
    "agg_user.columns = [\"user_id\", \"outRating_mean\", \"outRating_count\"]\n",
    "\n",
    "group_user_gender = df.groupby(by = [\"user_id\", \"rating_gender\"])\n",
    "agg_user_gender = group_user_gender.agg({\"rating_weight\": \"mean\", \"rating_profile\": \"nunique\"})\n",
    "agg_user_gender = agg_user_gender.unstack()\n",
    "agg_user_gender.columns = [\"outRating_mean_female\", \"outRating_mean_male\", \"outRating_mean_unknown\", \"outRating_count_female\", \"outRating_count_male\", \"outRating_count_unknown\"]\n",
    "agg_user_gender = agg_user_gender.reset_index()\n",
    "\n",
    "# merging aggregations\n",
    "df_detailed = pd.merge(agg_user, agg_profile, how = \"left\", on = \"user_id\")\n",
    "df_detailed = pd.merge(df_detailed, agg_user_gender, how = \"left\", on = \"user_id\")\n",
    "df_detailed = pd.merge(df_detailed, agg_profile_gender, how = \"left\", on = \"user_id\")\n",
    "df_detailed = pd.merge(df_detailed, df[[\"user_id\", \"user_gender\"]].drop_duplicates(), how = \"left\", on = \"user_id\", validate = \"one_to_one\")\n",
    "\n",
    "print(df_detailed[\"user_id\"].nunique())\n",
    "display(df_detailed)"
   ]
  },
  {
   "cell_type": "code",
   "execution_count": null,
   "metadata": {},
   "outputs": [],
   "source": [
    "# filling NaN\n",
    "cols = [\n",
    "    \"inRating_count\",\n",
    "    \"inRating_count_female\", \n",
    "    \"inRating_count_male\",\n",
    "    \"inRating_count_unknown\",\n",
    "    \"outRating_count\",\n",
    "    \"outRating_count_female\", \n",
    "    \"outRating_count_male\", \n",
    "    \"outRating_count_unknown\"]\n",
    "for col in cols:\n",
    "    df_detailed[col] = df_detailed[col].fillna(0)\n",
    "display(df_detailed)"
   ]
  },
  {
   "cell_type": "code",
   "execution_count": null,
   "metadata": {
    "scrolled": false
   },
   "outputs": [],
   "source": [
    "# reodering columns + creating concise dataset\n",
    "\n",
    "df_detailed = df_detailed[[\n",
    "    \"user_id\", \n",
    "    \"user_gender\", \n",
    "    \"outRating_count\",\n",
    "    \"outRating_count_male\",\n",
    "    \"outRating_count_female\",\n",
    "    \"outRating_count_unknown\",\n",
    "    \"outRating_mean\",\n",
    "    \"outRating_mean_male\",\n",
    "    \"outRating_mean_female\",\n",
    "    \"outRating_mean_unknown\",\n",
    "    \"inRating_count\",\n",
    "    \"inRating_count_male\",\n",
    "    \"inRating_count_female\",\n",
    "    \"inRating_count_unknown\",\n",
    "    \"inRating_mean\",\n",
    "    \"inRating_mean_male\",\n",
    "    \"inRating_mean_female\",\n",
    "    \"inRating_mean_unknown\"]]\n",
    "\n",
    "df_concise = df_detailed[[\n",
    "    \"user_id\", \n",
    "    \"user_gender\", \n",
    "    \"inRating_count\", \n",
    "    \"outRating_count\", \n",
    "    \"inRating_mean\", \n",
    "    \"outRating_mean\"]]\n",
    "\n",
    "display(df_concise)"
   ]
  },
  {
   "cell_type": "markdown",
   "metadata": {},
   "source": [
    "### Sexual Orientation"
   ]
  },
  {
   "cell_type": "code",
   "execution_count": null,
   "metadata": {},
   "outputs": [],
   "source": [
    "# male ratings ratio\n",
    "df_detailed[\"outRating_male_ratio\"] = df_detailed[\"outRating_count_male\"] / df_detailed[\"outRating_count\"]\n",
    "df_detailed[\"inRating_male_ratio\"] = df_detailed[\"inRating_count_male\"] / df_detailed[\"inRating_count\"]\n",
    "df_detailed[[\"user_id\", \"user_gender\", \"outRating_count\", \"outRating_male_ratio\", \"outRating_count\", \"inRating_male_ratio\", \"inRating_count\"]]\n",
    "\n",
    "# parameters\n",
    "min_rating_count = 15\n",
    "max_rating_count = 25\n",
    "gay_treshold = 0.6\n",
    "\n",
    "df_detailed[\"user_straight\"] = True\n",
    "df_detailed.loc[\n",
    "    (((df_detailed[\"user_gender\"] == \"M\") & (df_detailed[\"outRating_count_male\"] > min_rating_count) & (df_detailed[\"outRating_male_ratio\"] >= gay_treshold)) |\n",
    "    ((df_detailed[\"user_gender\"] == \"M\") & (df_detailed[\"inRating_count_male\"] > min_rating_count) & (df_detailed[\"inRating_male_ratio\"] >= gay_treshold) & (df_detailed[\"outRating_count\"] < max_rating_count)))\n",
    ", \"user_straight\"] = False\n",
    "df_detailed.loc[\n",
    "    (((df_detailed[\"user_gender\"] == \"F\") & (df_detailed[\"outRating_count_female\"] > min_rating_count) & (df_detailed[\"outRating_male_ratio\"] <= (1 - gay_treshold))) |\n",
    "    ((df_detailed[\"user_gender\"] == \"F\") & (df_detailed[\"inRating_count_female\"] > min_rating_count) & (df_detailed[\"inRating_male_ratio\"] <= (1 - gay_treshold)) & (df_detailed[\"outRating_count\"] < max_rating_count)))\n",
    ", \"user_straight\"] = False\n",
    "\n",
    "display(df_detailed[(df_detailed[\"user_straight\"] == False) & (df_detailed[\"user_gender\"] == \"M\")][[\"user_id\", \"user_gender\", \"outRating_count\", \"outRating_male_ratio\", \"inRating_count\", \"inRating_male_ratio\"]])"
   ]
  },
  {
   "cell_type": "markdown",
   "metadata": {},
   "source": [
    "### Reciprocal dataset with positive rating"
   ]
  },
  {
   "cell_type": "code",
   "execution_count": null,
   "metadata": {},
   "outputs": [],
   "source": [
    "# original graph\n",
    "G = nx.from_pandas_edgelist(df, source = \"user_id\", target = \"rating_profile\", edge_attr = \"rating_weight\", create_using=nx.DiGraph())\n",
    "node_gender = pd.Series(data = df_concise[\"user_gender\"], index = df_concise[\"user_id\"]).to_dict()\n",
    "nx.set_node_attributes(G, node_gender, name = \"gender\")\n",
    "\n",
    "print(\"nodes:\", len(G.nodes))\n",
    "print(\"edges:\", len(G.edges))\n",
    "# print(\"reciprocity:\", nx.reciprocity(G)) # 0.020955633127806995"
   ]
  },
  {
   "cell_type": "code",
   "execution_count": null,
   "metadata": {},
   "outputs": [],
   "source": [
    "# removing negative ratings\n",
    "threshold_pos = 5\n",
    "negative_edges = [(u, v) for u, v, e in G.edges(data = \"rating_weight\") if e <= threshold_pos]\n",
    "print(\"negative edges:\", len(negative_edges))\n",
    "\n",
    "G.remove_edges_from(negative_edges)\n",
    "\n",
    "print(\"nodes:\", len(G.nodes))\n",
    "print(\"edges:\", len(G.edges))"
   ]
  },
  {
   "cell_type": "code",
   "execution_count": null,
   "metadata": {},
   "outputs": [],
   "source": [
    "# reciprocral graph\n",
    "undefined_nodes = [x for x, y in G.nodes(data = \"gender\") if y == \"U\"]\n",
    "G.remove_nodes_from(undefined_nodes)\n",
    "G2 = G.to_undirected(reciprocal = True)\n",
    "print(\"nodes:\", len(G2.nodes))\n",
    "print(\"edges:\", len(G2.edges))"
   ]
  },
  {
   "cell_type": "code",
   "execution_count": null,
   "metadata": {},
   "outputs": [],
   "source": [
    "# duplicating graphs\n",
    "G3 = G2.copy()\n",
    "G4 = G2.copy()\n",
    "\n",
    "# selecting not straight people\n",
    "not_males = [x for x, y in G3.nodes(data = \"gender\") if (y == \"U\") or (y == \"F\")]\n",
    "G3.remove_nodes_from(not_males)\n",
    "print(\"male nodes:\", len(G3.nodes))\n",
    "print(\"male edges:\", len(G3.edges))\n",
    "\n",
    "not_females = [x for x, y in G4.nodes(data = \"gender\") if (y == \"U\") or (y == \"M\")]\n",
    "G4.remove_nodes_from(not_females)\n",
    "print(\"female nodes:\", len(G4.nodes))\n",
    "print(\"female edges:\", len(G4.edges))\n",
    "\n",
    "# creating dataframe\n",
    "df_rec = nx.to_pandas_edgelist(G2, source = \"Source\", target = \"Target\")\n",
    "df_rec_male = nx.to_pandas_edgelist(G3, source = \"Source\", target = \"Target\")\n",
    "df_rec_female = nx.to_pandas_edgelist(G4, source = \"Source\", target = \"Target\")"
   ]
  },
  {
   "cell_type": "code",
   "execution_count": null,
   "metadata": {},
   "outputs": [],
   "source": [
    "# saving datasets\n",
    "df.to_csv(\"data/df.csv\", index = False)\n",
    "df_detailed.to_csv(\"data/df_detailed.csv\", index = False)\n",
    "df_concise.to_csv(\"data/df_concise.csv\", index = False)\n",
    "df_rec.to_csv(\"data/df_rec.csv\", index = False)\n",
    "nx.write_gpickle(G2, \"data/rec.gpickle\")\n",
    "df_rec_male.to_csv(\"data/df_rec_male.csv\", index = False)\n",
    "nx.write_gpickle(G3, \"data/rec_male.gpickle\")\n",
    "df_rec_female.to_csv(\"data/df_rec_female.csv\", index = False)\n",
    "nx.write_gpickle(G4, \"data/rec_female.gpickle\")"
   ]
  },
  {
   "cell_type": "markdown",
   "metadata": {},
   "source": [
    "## 2) Data Analysis"
   ]
  },
  {
   "cell_type": "code",
   "execution_count": 2,
   "metadata": {},
   "outputs": [],
   "source": [
    "# loading data from files\n",
    "df = pd.read_csv(\"data/df.csv\")\n",
    "df_detailed = pd.read_csv(\"data/df_detailed.csv\")\n",
    "df_concise = pd.read_csv(\"data/df_concise.csv\")\n",
    "#df_rec = pd.read_csv(\"data/df_rec.csv\")\n",
    "df_rec_male = pd.read_csv(\"data/df_rec_male.csv\")\n",
    "#df_rec_female = pd.read_csv(\"data/df_rec_female.csv\")\n",
    "#G2 = nx.read_gpickle(\"data/rec.gpickle\")\n",
    "G3 = nx.read_gpickle(\"data/rec_male.gpickle\")\n",
    "#G3 = nx.read_gpickle(\"data/rec_female.gpickle\")"
   ]
  },
  {
   "cell_type": "code",
   "execution_count": 3,
   "metadata": {},
   "outputs": [
    {
     "name": "stdout",
     "output_type": "stream",
     "text": [
      "Total nodes: 135359\n",
      "\tfemales: 59702\n",
      "\tmales: 60145\n",
      "\tunknown: 15512\n",
      "Total edges: 12044685\n"
     ]
    }
   ],
   "source": [
    "print(\"Total nodes:\", df_concise[\"user_id\"].nunique())\n",
    "print(\"\\tfemales:\", df_concise[df_concise[\"user_gender\"] == \"F\"].shape[0])\n",
    "print(\"\\tmales:\", df_concise[df_concise[\"user_gender\"] == \"M\"].shape[0])\n",
    "print(\"\\tunknown:\", df_concise[df_concise[\"user_gender\"] == \"U\"].shape[0])\n",
    "print('Total edges:', len(df))"
   ]
  },
  {
   "cell_type": "markdown",
   "metadata": {},
   "source": [
    "### Gender proportion in the dataset"
   ]
  },
  {
   "cell_type": "code",
   "execution_count": null,
   "metadata": {
    "scrolled": false
   },
   "outputs": [],
   "source": [
    "gender_portion = df_concise.groupby(\"user_gender\")[\"user_id\"].nunique()\n",
    "gender_stats = df_detailed[[\"user_id\", \"user_gender\", \"user_straight\"]].groupby([\"user_gender\", \"user_straight\"])[\"user_id\"].nunique()\n",
    "print(gender_stats)\n",
    "\n",
    "plt.figure(figsize=(15, 10))\n",
    "plt.suptitle(\"Users' gender\")\n",
    "\n",
    "plt.subplot(121)\n",
    "plt.pie(\n",
    "    gender_portion,\n",
    "    labels = [\"Female\", \"Male\", \"Unknown\"],\n",
    "    autopct = \"%1.1f%%\", \n",
    "    colors = [\"lightcoral\", \"royalblue\", \"grey\"])\n",
    "\n",
    "plt.subplot(122)\n",
    "plt.pie(\n",
    "    gender_stats, \n",
    "    labels = [\"F (lesbian)\", \"F (straight)\", \"M (gay)\", \"M (straight)\", \"U\"], \n",
    "    autopct = \"%1.1f%%\", \n",
    "    colors = [\"lightpink\", \"lightcoral\", \"lightsteelblue\",\"royalblue\", \"grey\"])\n",
    "\n",
    "plt.show()"
   ]
  },
  {
   "cell_type": "markdown",
   "metadata": {},
   "source": [
    "### Positive/Negative ratings"
   ]
  },
  {
   "cell_type": "code",
   "execution_count": null,
   "metadata": {},
   "outputs": [],
   "source": [
    "count_negative = len(df[df[\"rating_weight\"] < 4])\n",
    "count_neutral = len(df[(df[\"rating_weight\"] >= 4) & (df[\"rating_weight\"] < 7)])\n",
    "count_positive = len(df[(df[\"rating_weight\"] >= 7)])\n",
    "\n",
    "plt.figure(figsize = (5,5))\n",
    "plt.pie(\n",
    "    [count_negative, count_neutral, count_positive],\n",
    "    labels = [\"negative\", \"neutral\", \"positive\"],\n",
    "    colors = [\"lightcoral\", \"gray\", \"royalblue\"],\n",
    "    autopct = \"%1.1f%%\")\n",
    "plt.show()"
   ]
  },
  {
   "cell_type": "markdown",
   "metadata": {},
   "source": [
    "### Number of Ratings"
   ]
  },
  {
   "cell_type": "code",
   "execution_count": null,
   "metadata": {},
   "outputs": [],
   "source": [
    "inRating = df_concise[\"inRating_count\"]\n",
    "outRating = df_concise[\"outRating_count\"]\n",
    "\n",
    "# number of ratings (general)\n",
    "plt.figure(figsize = (15, 5))\n",
    "plt.suptitle(\"Number of ratings (log-scaled)\")\n",
    "\n",
    "ax1 = plt.subplot(121)\n",
    "plt.hist(df_concise[\"inRating_count\"], bins = 25, log = True)\n",
    "plt.title(\"Received: mean = {:.2f}, std = {:.2f}\".format(inRating.mean(), inRating.std()))\n",
    "plt.xlabel(\"Number of ratings\")\n",
    "plt.ylabel(\"Number of users\")\n",
    "\n",
    "plt.subplot(122, sharey = ax1)\n",
    "plt.hist(df_concise[\"outRating_count\"], bins = 25, log = True)\n",
    "plt.title(\"Given: mean = {:.2f}, std = {:.2f}\".format(outRating.mean(), outRating.std()))\n",
    "plt.xlabel(\"Number of ratings\")\n",
    "\n",
    "plt.show()\n",
    "\n",
    "# number of ratings (by gender)\n",
    "plt.figure(figsize = (15,15))\n",
    "plt.suptitle(\"Number of ratings by gender (log-scaled)\")\n",
    "\n",
    "idx = 1\n",
    "ax1 = None\n",
    "for i in [\"M\", \"F\", \"U\"]:\n",
    "    inRating = df_concise[df_concise[\"user_gender\"] == i][\"inRating_count\"]\n",
    "    outRating = df_concise[df_concise[\"user_gender\"] == i][\"outRating_count\"]\n",
    "    \n",
    "    if ax1 is None:\n",
    "        ax1 = plt.subplot(3, 2, idx)\n",
    "    else:\n",
    "        plt.subplot(3, 2, idx, sharey = ax1)\n",
    "    plt.hist(inRating, bins = 25, log = True)\n",
    "    plt.title(\"Received ({}): mean = {:.2f}, std = {:.2f}\".format(i, inRating.mean(), inRating.std()))\n",
    "    plt.xlabel(\"Number of ratings\")\n",
    "    plt.ylabel(\"Number of users\")\n",
    "\n",
    "    plt.subplot(3, 2, idx + 1, sharey = ax1)\n",
    "    plt.hist(outRating, bins = 25, log = True)\n",
    "    plt.title(\"Given ({}): mean = {:.2f}, std = {:.2f}\".format(i, outRating.mean(), outRating.std()))\n",
    "    plt.xlabel(\"Number of ratings\")\n",
    "    plt.ylabel(\"Number of users\")\n",
    "    idx += 2\n",
    "\n",
    "plt.show()"
   ]
  },
  {
   "cell_type": "markdown",
   "metadata": {},
   "source": [
    "### Mean of Ratings"
   ]
  },
  {
   "cell_type": "code",
   "execution_count": null,
   "metadata": {},
   "outputs": [],
   "source": [
    "inRating = df_concise[df_concise[\"inRating_mean\"].notna()][\"inRating_mean\"]\n",
    "outRating = df_concise[df_concise[\"outRating_mean\"].notna()][\"outRating_mean\"]\n",
    "\n",
    "plt.figure(figsize = (15, 5))\n",
    "plt.suptitle(\"Mean of ratings\")\n",
    "\n",
    "ax1 = plt.subplot(121)\n",
    "plt.hist(inRating, bins = 25)\n",
    "plt.title(\"Received\")\n",
    "plt.title(\"Received: mean = {:.2f}, std = {:.2f}\".format(inRating.mean(), inRating.std()))\n",
    "plt.xlabel(\"Mean of the rating\")\n",
    "plt.ylabel(\"Number of accounts\")\n",
    "\n",
    "plt.subplot(122, sharey = ax1)\n",
    "plt.hist(outRating, bins = 25)\n",
    "plt.title(\"Given: mean = {:.2f}, std = {:.2f}\".format(outRating.mean(), outRating.std()))\n",
    "plt.xlabel(\"Mean of the rating\")\n",
    "plt.ylabel(\"Number of accounts\")\n",
    "\n",
    "plt.show()\n",
    "\n",
    "# separated by gender\n",
    "plt.figure(figsize = (15,15))\n",
    "plt.suptitle(\"Mean of ratings by gender\")\n",
    "\n",
    "idx = 1\n",
    "ax1 = None\n",
    "for i in [\"M\", \"F\", \"U\"]:\n",
    "    inRating = df_concise[(df_concise[\"user_gender\"] == i) & (df_concise[\"inRating_mean\"].notna())][\"inRating_mean\"]\n",
    "    outRating = df_concise[(df_concise[\"user_gender\"] == i) & (df_concise[\"outRating_mean\"].notna())][\"outRating_mean\"]\n",
    "    \n",
    "    if ax1 is None:\n",
    "        ax1 = plt.subplot(3, 2, idx)\n",
    "    else:\n",
    "        plt.subplot(3, 2, idx, sharey = ax1)\n",
    "    plt.hist(inRating, bins = 25)\n",
    "    plt.title(\"Received ({}): mean = {:.2f}, std = {:.2f}\".format(i, inRating.mean(), inRating.std()))\n",
    "    plt.xlabel(\"Mean of the rating\")\n",
    "    plt.ylabel(\"Number of accounts\")\n",
    "\n",
    "    plt.subplot(3, 2, idx + 1, sharey = ax1)\n",
    "    plt.hist(outRating, bins = 25)\n",
    "    plt.title(\"Given ({}): mean = {:.2f}, std = {:.2f}\".format(i, outRating.mean(), outRating.std()))\n",
    "    plt.xlabel(\"Mean of the rating\")\n",
    "    plt.ylabel(\"Number of users\")\n",
    "    \n",
    "    idx += 2\n",
    "\n",
    "plt.show()"
   ]
  },
  {
   "cell_type": "markdown",
   "metadata": {},
   "source": [
    "### Cumulative Distribution of Ratings"
   ]
  },
  {
   "cell_type": "code",
   "execution_count": null,
   "metadata": {},
   "outputs": [],
   "source": [
    "inRating = df_concise[\"inRating_count\"]\n",
    "outRating = df_concise[\"outRating_count\"]\n",
    "\n",
    "plt.figure(figsize = (15, 5))\n",
    "plt.suptitle(\"Cumulative distribution of Ratings\")\n",
    "\n",
    "plt.subplot(121)\n",
    "plt.title(\"Given ratings\")\n",
    "plt.hist(outRating, cumulative = -1, histtype = \"stepfilled\", log = True, bins = 25)\n",
    "\n",
    "plt.subplot(122)\n",
    "plt.title(\"Received ratings\")\n",
    "plt.hist(inRating, cumulative = -1, histtype = \"stepfilled\", log = True, bins = 25)\n",
    "\n",
    "plt.show()\n",
    "\n",
    "# number of ratings (by gender)\n",
    "plt.figure(figsize = (15,15))\n",
    "plt.suptitle(\"Number of ratings by gender (log-scaled)\")\n",
    "\n",
    "idx = 1\n",
    "ax1 = None\n",
    "for i in [\"M\", \"F\", \"U\"]:\n",
    "    inRating = df_concise[df_concise[\"user_gender\"] == i][\"inRating_count\"]\n",
    "    outRating = df_concise[df_concise[\"user_gender\"] == i][\"outRating_count\"]\n",
    "    \n",
    "    if ax1 is None:\n",
    "        ax1 = plt.subplot(3, 2, idx)\n",
    "    else:\n",
    "        plt.subplot(3, 2, idx, sharey = ax1)\n",
    "    plt.hist(inRating, cumulative = -1, histtype = \"stepfilled\", log = True, bins = 25)\n",
    "    plt.title(\"Received ({})\".format(i))\n",
    "    plt.xlabel(\"Number of ratings\")\n",
    "    plt.ylabel(\"Number of users\")\n",
    "\n",
    "    plt.subplot(3, 2, idx + 1, sharey = ax1)\n",
    "    plt.hist(outRating, cumulative = -1, histtype = \"stepfilled\", log = True, bins = 25)\n",
    "    plt.title(\"Given ({})\".format(i))\n",
    "    plt.xlabel(\"Number of ratings\")\n",
    "    plt.ylabel(\"Number of users\")\n",
    "    idx += 2\n",
    "\n",
    "plt.show()"
   ]
  },
  {
   "cell_type": "markdown",
   "metadata": {},
   "source": [
    "### Power-law approximation"
   ]
  },
  {
   "cell_type": "code",
   "execution_count": 86,
   "metadata": {},
   "outputs": [
    {
     "name": "stdout",
     "output_type": "stream",
     "text": [
      "found values [ 1.06399195e-01 -9.90930233e-01  4.00000000e+04]\n"
     ]
    }
   ],
   "source": [
    "# Another way of fitting the MLE parameters\n",
    "\n",
    "data = df_concise[\"inRating_count\"]\n",
    "\n",
    "def ltarget(theta):\n",
    "    d = -np.sum(powerlaw.logpdf(data + 0.1, theta[0], theta[1], theta[2]))\n",
    "    if d == np.inf or np.isnan(d):\n",
    "        return 10000000\n",
    "    return d\n",
    "\n",
    "# It seems that the location is fitted really poorly and it only has to be higher than 30k\n",
    "prior = np.array([0.2, -1, 40000])\n",
    "\n",
    "theta_opt = scipy.optimize.minimize(ltarget, prior)\n",
    "\n",
    "print('found values', theta_opt.x)"
   ]
  },
  {
   "cell_type": "code",
   "execution_count": 87,
   "metadata": {},
   "outputs": [
    {
     "data": {
      "text/plain": [
       "[<matplotlib.lines.Line2D at 0x12827f490>]"
      ]
     },
     "execution_count": 87,
     "metadata": {},
     "output_type": "execute_result"
    },
    {
     "data": {
      "image/png": "[encoded data removed]",
      "text/plain": [
       "<Figure size 432x288 with 1 Axes>"
      ]
     },
     "metadata": {
      "needs_background": "light"
     },
     "output_type": "display_data"
    }
   ],
   "source": [
    "t2 = powerlaw.fit(data) # always [0.25556190626454967, -5.3087461247103575e-25, 41315.39602489741]\n",
    "\n",
    "t = np.linspace(data.min() + 1, data.max(), 100)\n",
    "\n",
    "t1 = theta_opt.x # eg [1.06399195e-01, -9.90930233e-01, 4.00000000e+04]\n",
    "\n",
    "plt.plot(t, powerlaw.logpdf(t, t1[0], t1[1], t1[2]), color=\"g\")\n",
    "plt.plot(t, powerlaw.logpdf(t, t2[0], t2[1], t2[2]), color=\"r\")"
   ]
  },
  {
   "cell_type": "code",
   "execution_count": null,
   "metadata": {},
   "outputs": [],
   "source": [
    "plt.figure(figsize = (15, 5))\n",
    "plt.suptitle(\"Power-law approximation\")\n",
    "\n",
    "plt.subplot(121)\n",
    "plt.title(\"Received ratings\")\n",
    "mle_tuple = powerlaw.fit(df_concise[\"inRating_count\"])\n",
    "print(\"Received:\\n\\talpha = {:.2f}\\n\\tscale = {:.2f}\".format(mle_tuple[0], mle_tuple[2]))\n",
    "r = powerlaw.rvs(mle_tuple[0], scale = mle_tuple[2], size = 1000)\n",
    "plt.hist(r, histtype = 'stepfilled', log = True, bins = 25)\n",
    "\n",
    "plt.subplot(122)\n",
    "plt.title(\"Given ratings\")\n",
    "mle_tuple = powerlaw.fit(df_concise[\"outRating_count\"])\n",
    "print(\"Given:\\talpha = {:.2f}\\n\\tscale = {:.2f}\".format(mle_tuple[0], mle_tuple[2]))\n",
    "r = powerlaw.rvs(mle_tuple[0], scale = mle_tuple[2], size = 1000)\n",
    "plt.hist(r, histtype = 'stepfilled', log = True, bins = 25)\n",
    "\n",
    "\n",
    "plt.show()"
   ]
  },
  {
   "cell_type": "code",
   "execution_count": null,
   "metadata": {
    "scrolled": false
   },
   "outputs": [],
   "source": [
    "# Given ratings\n",
    "def get_title(name, df):\n",
    "    mu = np.round(df.mean(), 2)\n",
    "    sd = np.round(df.std(), 2)\n",
    "    return \"{} - mu = {}, sd = {}\".format(name, mu, sd)\n",
    "\n",
    "data = [\n",
    "    df[\"rating_weight\"],\n",
    "    df[df[\"user_gender\"] == \"F\"][\"rating_weight\"],\n",
    "    df[df[\"user_gender\"] == \"M\"][\"rating_weight\"],\n",
    "    df[df[\"user_gender\"] == \"U\"][\"rating_weight\"]\n",
    "]\n",
    "\n",
    "titles = [\n",
    "    \"All\",\n",
    "    \"Females\",\n",
    "    \"Males\",\n",
    "    \"Unknown\"\n",
    "]\n",
    "\n",
    "plt.figure(figsize = (15, 10))\n",
    "for i in range(len(data)):\n",
    "    plt.subplot(2, 2, i + 1)\n",
    "    plt.hist(data[i], bins = 10)\n",
    "    plt.title(get_title(titles[i], data[i]))\n",
    "\n",
    "plt.show()"
   ]
  },
  {
   "cell_type": "markdown",
   "metadata": {},
   "source": [
    "## 3) Small Community"
   ]
  },
  {
   "cell_type": "markdown",
   "metadata": {},
   "source": [
    "### Obratining small community"
   ]
  },
  {
   "cell_type": "code",
   "execution_count": null,
   "metadata": {},
   "outputs": [],
   "source": [
    "## obtaining small community\n",
    "df_small = df_detailed[(df_detailed[\"user_gender\"] == \"M\") & (df_detailed[\"user_straight\"] == False)]\n",
    "df_small_edges = df[df[\"user_id\"].isin(df_small[\"user_id\"])]\n",
    "\n",
    "print(\"nodes:\", df_small.shape[0])\n",
    "print(\"edges:\", df_small_edges.shape[0])\n",
    "\n",
    "#df_small[[\"user_id\", \"user_gender\", \"user_straight\"]].to_csv(\"data/gender_small.csv\", sep = \",\", index = False)\n",
    "#df_small_edges.to_csv(\"data/ratings_small.csv\", sep = \",\", index = False)"
   ]
  },
  {
   "cell_type": "markdown",
   "metadata": {},
   "source": [
    "### Cumulative Degree Distribution"
   ]
  },
  {
   "cell_type": "code",
   "execution_count": null,
   "metadata": {},
   "outputs": [],
   "source": [
    "plt.figure(figsize = (15, 5))\n",
    "plt.suptitle(\"Cumulative Distribution of Degrees\")\n",
    "\n",
    "plt.subplot(121)\n",
    "plt.title(\"In-degrees\")\n",
    "plt.hist(df_small[\"inRating_count\"], cumulative = -1, bins = 25, log = True)\n",
    "\n",
    "plt.subplot(122)\n",
    "plt.title(\"Out-degrees\")\n",
    "plt.hist(df_small[\"outRating_count\"], cumulative = -1, bins = 25, log = True)\n",
    "\n",
    "plt.show()"
   ]
  },
  {
   "cell_type": "markdown",
   "metadata": {},
   "source": [
    "### Average Clustering Coefficient"
   ]
  },
  {
   "cell_type": "code",
   "execution_count": null,
   "metadata": {},
   "outputs": [],
   "source": [
    "H = nx.from_pandas_edgelist(df_small_edges, source = \"user_id\", target = \"rating_profile\", edge_attr = \"user_gender\", create_using=nx.DiGraph())\n",
    "print(\"average clustering:\", nx.average_clustering(H))"
   ]
  },
  {
   "cell_type": "markdown",
   "metadata": {},
   "source": [
    "### Centralities"
   ]
  },
  {
   "cell_type": "code",
   "execution_count": null,
   "metadata": {},
   "outputs": [],
   "source": [
    "# centralities\n",
    "degc = nx.degree_centrality(H)\n",
    "#betw = nx.betweenness_centrality(H)\n",
    "clos = nx.closeness_centrality(H)\n",
    "eig = nx.eigenvector_centrality_numpy(H)\n",
    "\n",
    "centrality = pd.DataFrame({\"degree\": degc, \"closeness\": clos, \"eigenvector\": eig})\n",
    "sns.pairplot(centrality)"
   ]
  },
  {
   "cell_type": "markdown",
   "metadata": {},
   "source": [
    "### Connected Components"
   ]
  },
  {
   "cell_type": "code",
   "execution_count": null,
   "metadata": {},
   "outputs": [],
   "source": [
    "print(\"Is weakly connected:\", nx.is_weakly_connected(H))\n",
    "components = list(nx.strongly_connected_components(H))\n",
    "\n",
    "print(\"# of nodes:\", len(H.nodes))\n",
    "print(\"# of strongly connected components:\", len(components))"
   ]
  },
  {
   "cell_type": "markdown",
   "metadata": {},
   "source": [
    "## Reciprocal Graph with Positive Ratings (males)"
   ]
  },
  {
   "cell_type": "code",
   "execution_count": null,
   "metadata": {},
   "outputs": [],
   "source": [
    "curr_g = G3\n",
    "curr_df = df_rec_male\n",
    "curr_df"
   ]
  },
  {
   "cell_type": "code",
   "execution_count": null,
   "metadata": {},
   "outputs": [],
   "source": [
    "# removing isolated nodes\n",
    "isolates = list(nx.isolates(curr_g))\n",
    "print(\"# of isolated nodes:\", len(isolates))\n",
    "curr_g.remove_nodes_from(isolates)"
   ]
  },
  {
   "cell_type": "code",
   "execution_count": null,
   "metadata": {},
   "outputs": [],
   "source": [
    "print(\"nodes:\", len(curr_g.nodes))\n",
    "print(\"edges:\", len(curr_g.edges))"
   ]
  },
  {
   "cell_type": "code",
   "execution_count": null,
   "metadata": {},
   "outputs": [],
   "source": [
    "# degree distribution\n",
    "plt.figure(figsize = (15, 5))\n",
    "degrees = [d for n, d in curr_g.degree()]\n",
    "plt.hist(degrees, cumulative = -1, bins = 25, log = True)\n",
    "plt.title(\"Degree distribution (log-scaled)\")\n",
    "plt.show()"
   ]
  },
  {
   "cell_type": "code",
   "execution_count": null,
   "metadata": {
    "scrolled": true
   },
   "outputs": [],
   "source": [
    "# connected components\n",
    "conn_components = list(nx.connected_components(curr_g))\n",
    "print(\"# of connected components:\", len(conn_components))\n",
    "\n",
    "comp_size = []\n",
    "for c in conn_components:\n",
    "    comp_size.append(len(c))\n",
    "comp_size.sort(reverse = True)\n",
    "print(\"sorted sizes of components:\", comp_size[:10])"
   ]
  },
  {
   "cell_type": "markdown",
   "metadata": {},
   "source": [
    "### GraphLab"
   ]
  },
  {
   "cell_type": "code",
   "execution_count": null,
   "metadata": {},
   "outputs": [],
   "source": [
    "from graphlab import SFrame, SGraph\n",
    "from graphlab import pagerank"
   ]
  },
  {
   "cell_type": "code",
   "execution_count": null,
   "metadata": {},
   "outputs": [],
   "source": [
    "data = SFrame.read_csv(\"data/ratings_small.csv\")\n",
    "g = SGraph().add_edges(data, src_field = \"user_id\", dst_field = \"rating_profile\")"
   ]
  },
  {
   "cell_type": "code",
   "execution_count": null,
   "metadata": {},
   "outputs": [],
   "source": [
    "# pagerank\n",
    "pr = pagerank.create(g, threshold = 0.0001, max_iterations = 20)\n",
    "pr.summary()\n",
    "df_pagerank = pr.pagerank.to_dataframe"
   ]
  },
  {
   "cell_type": "code",
   "execution_count": null,
   "metadata": {},
   "outputs": [],
   "source": [
    "display(df_pagerank)"
   ]
  }
 ],
 "metadata": {
  "kernelspec": {
   "display_name": "Python 3",
   "language": "python",
   "name": "python3"
  },
  "language_info": {
   "codemirror_mode": {
    "name": "ipython",
    "version": 3
   },
   "file_extension": ".py",
   "mimetype": "text/x-python",
   "name": "python",
   "nbconvert_exporter": "python",
   "pygments_lexer": "ipython3",
   "version": "3.7.6"
  }
 },
 "nbformat": 4,
 "nbformat_minor": 2
}
