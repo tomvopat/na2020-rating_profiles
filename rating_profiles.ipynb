{
 "cells": [
  {
   "cell_type": "markdown",
   "metadata": {},
   "source": [
    "# Rating Profiles\n",
    "## Network Analysis - University of Helsinki\n",
    "* Teemu Koivisto (teemu.koivisto@helsinki.fi)\n",
    "* Tomáš Vopat (tomas.vopat@helsinki.fi)\n",
    "\n",
    "Dataset: http://www.occamslab.com/petricek/data/"
   ]
  },
  {
   "cell_type": "markdown",
   "metadata": {},
   "source": [
    "## Data Preprocessing"
   ]
  },
  {
   "cell_type": "code",
   "execution_count": null,
   "metadata": {},
   "outputs": [],
   "source": [
    "# imports\n",
    "import numpy as np\n",
    "import pandas as pd\n",
    "import networkx as nx\n",
    "import matplotlib\n",
    "import matplotlib.pyplot as plt\n",
    "import seaborn as sns\n",
    "%matplotlib inline"
   ]
  },
  {
   "cell_type": "code",
   "execution_count": null,
   "metadata": {},
   "outputs": [],
   "source": [
    "# loading files\n",
    "PATH_RATINGS = \"data/ratings.csv\"\n",
    "PATH_GENDER = \"data/gender.csv\"\n",
    "\n",
    "ratings = pd.read_csv(PATH_RATINGS, names=['user_id', 'profile_id', 'rating'])\n",
    "gender = pd.read_csv(PATH_GENDER, names=['user_id', 'gender'])\n",
    "\n",
    "# merging datasets\n",
    "df = pd.merge(ratings, gender, how = \"left\", on = \"user_id\")\n",
    "df = pd.merge(df, gender, how = \"left\", left_on = \"profile_id\", right_on = \"user_id\").drop(\"user_id_y\", axis = 1)\n",
    "df.columns = [\"user_id\", \"rating_profile\", \"rating_weight\", \"user_gender\", \"rating_gender\"]\n",
    "df = df[[\"user_id\", \"user_gender\", \"rating_profile\", \"rating_gender\", \"rating_weight\"]]\n",
    "\n",
    "# converting gender\n",
    "df[\"user_gender\"] = df[\"user_gender\"].astype(\"category\")\n",
    "df[\"rating_gender\"] = df[\"rating_gender\"].astype(\"category\")\n",
    "print(\"gender vals:\", df[\"user_gender\"].unique())\n",
    "\n",
    "display(df.info())\n",
    "print(df.nunique())\n",
    "display(df)"
   ]
  },
  {
   "cell_type": "code",
   "execution_count": null,
   "metadata": {},
   "outputs": [],
   "source": [
    "# There are 135,359 profiles in the dataset, but there are 168,791 unique ids of rated profiles. \n",
    "# There are ratings of accounts that do not exist...\n",
    "# Dropping that...\n",
    "\n",
    "max_id = df[\"user_id\"].max()\n",
    "df = df[df[\"rating_profile\"] <= max_id]"
   ]
  },
  {
   "cell_type": "code",
   "execution_count": null,
   "metadata": {
    "scrolled": false
   },
   "outputs": [],
   "source": [
    "# statistics about INCOMING ratings\n",
    "group_profile = df.groupby(by = [\"rating_profile\"])\n",
    "agg_profile = group_profile.agg({\"rating_weight\": \"mean\", \"user_id\": \"nunique\"})\n",
    "agg_profile = agg_profile.reset_index()\n",
    "agg_profile.columns = [\"user_id\", \"inRating_mean\", \"inRating_count\"]\n",
    "\n",
    "group_profile_gender = df.groupby(by = [\"rating_profile\", \"user_gender\"])\n",
    "agg_profile_gender = group_profile_gender.agg({\"rating_weight\": \"mean\", \"user_id\": \"nunique\"})\n",
    "agg_profile_gender = agg_profile_gender.unstack()\n",
    "agg_profile_gender = agg_profile_gender.reset_index()\n",
    "agg_profile_gender.columns = [\"user_id\", \"inRating_mean_female\", \"inRating_mean_male\", \"inRating_mean_unknown\", \"inRating_count_female\", \"inRating_count_male\", \"inRating_count_unknown\"]\n",
    "\n",
    "# statistics about OUTGOING ratings\n",
    "group_user = df.groupby(by = [\"user_id\"])\n",
    "agg_user = group_user.agg({\"rating_weight\": \"mean\", \"rating_profile\": \"nunique\"})\n",
    "agg_user = agg_user.reset_index()\n",
    "agg_user.columns = [\"user_id\", \"outRating_mean\", \"outRating_count\"]\n",
    "\n",
    "group_user_gender = df.groupby(by = [\"user_id\", \"rating_gender\"])\n",
    "agg_user_gender = group_user_gender.agg({\"rating_weight\": \"mean\", \"rating_profile\": \"nunique\"})\n",
    "agg_user_gender = agg_user_gender.unstack()\n",
    "agg_user_gender = agg_user_gender.reset_index()\n",
    "agg_user_gender.columns = [\"user_id\", \"outRating_mean_female\", \"outRating_mean_male\", \"outRating_mean_unknown\", \"outRating_count_female\", \"outRating_count_male\", \"outRating_count_unknown\"]\n",
    "\n",
    "# merging aggregations\n",
    "df_detailed = pd.merge(agg_user, agg_profile, how = \"left\", on = \"user_id\")\n",
    "df_detailed = pd.merge(df_detailed, agg_user_gender, how = \"left\", on = \"user_id\")\n",
    "df_detailed = pd.merge(df_detailed, agg_profile_gender, how = \"left\", on = \"user_id\")\n",
    "df_detailed = pd.merge(df_detailed, df[[\"user_id\", \"user_gender\"]].drop_duplicates(), how = \"left\", on = \"user_id\", validate = \"one_to_one\")\n",
    "\n",
    "print(df_detailed[\"user_id\"].nunique())\n",
    "display(df_detailed)"
   ]
  },
  {
   "cell_type": "code",
   "execution_count": null,
   "metadata": {},
   "outputs": [],
   "source": [
    "# filling NaN\n",
    "cols = [\n",
    "    \"inRating_count\",\n",
    "    \"inRating_count_female\", \n",
    "    \"inRating_count_male\",\n",
    "    \"inRating_count_unknown\",\n",
    "    \"outRating_count\",\n",
    "    \"outRating_count_female\", \n",
    "    \"outRating_count_male\", \n",
    "    \"outRating_count_unknown\"]\n",
    "for col in cols:\n",
    "    df_detailed[col] = df_detailed[col].fillna(0)\n",
    "display(df_detailed)"
   ]
  },
  {
   "cell_type": "code",
   "execution_count": null,
   "metadata": {
    "scrolled": false
   },
   "outputs": [],
   "source": [
    "# reodering columns + creating concise dataset\n",
    "\n",
    "df_detailed = df_detailed[[\n",
    "    \"user_id\", \n",
    "    \"user_gender\", \n",
    "    \"outRating_count\",\n",
    "    \"outRating_count_male\",\n",
    "    \"outRating_count_female\",\n",
    "    \"outRating_count_unknown\",\n",
    "    \"outRating_mean\",\n",
    "    \"outRating_mean_male\",\n",
    "    \"outRating_mean_female\",\n",
    "    \"outRating_mean_unknown\",\n",
    "    \"inRating_count\",\n",
    "    \"inRating_count_male\",\n",
    "    \"inRating_count_female\",\n",
    "    \"inRating_count_unknown\",\n",
    "    \"inRating_mean\",\n",
    "    \"inRating_mean_male\",\n",
    "    \"inRating_mean_female\",\n",
    "    \"inRating_mean_unknown\"]]\n",
    "\n",
    "df_concise = df_detailed[[\n",
    "    \"user_id\", \n",
    "    \"user_gender\", \n",
    "    \"inRating_count\", \n",
    "    \"outRating_count\", \n",
    "    \"inRating_mean\", \n",
    "    \"outRating_mean\"]]\n",
    "\n",
    "display(df_concise)"
   ]
  },
  {
   "cell_type": "code",
   "execution_count": null,
   "metadata": {},
   "outputs": [],
   "source": [
    "# saving datasets\n",
    "df.to_csv(\"data/df.csv\", index = False)\n",
    "df_detailed.to_csv(\"data/df_detailed.csv\", index = False)\n",
    "df_concise.to_csv(\"data/df_concise.csv\", index = False)"
   ]
  },
  {
   "cell_type": "code",
   "execution_count": null,
   "metadata": {},
   "outputs": [],
   "source": [
    "# loading from files\n",
    "df = pd.read_csv(\"data/df.csv\")\n",
    "df_detailed = pd.read_csv(\"data/df_detailed.csv\")\n",
    "df_concise = pd.read_csv(\"data/df_concise.csv\")"
   ]
  },
  {
   "cell_type": "markdown",
   "metadata": {},
   "source": [
    "# Data Analysis"
   ]
  },
  {
   "cell_type": "code",
   "execution_count": null,
   "metadata": {},
   "outputs": [],
   "source": [
    "print(\"Total nodes:\", df_concise[\"user_id\"].nunique())\n",
    "print(\"\\tfemales:\", df_concise[df_concise[\"user_gender\"] == \"F\"].shape[0])\n",
    "print(\"\\tmales:\", df_concise[df_concise[\"user_gender\"] == \"M\"].shape[0])\n",
    "print(\"\\tunknown:\", df_concise[df_concise[\"user_gender\"] == \"U\"].shape[0])\n",
    "print('Total edges:', len(df))"
   ]
  },
  {
   "cell_type": "code",
   "execution_count": null,
   "metadata": {},
   "outputs": [],
   "source": [
    "gender_portion = df_concise.groupby(\"user_gender\")[\"user_id\"].nunique()\n",
    "plt.figure(figsize=(5, 5))\n",
    "plt.pie(gender_portion, \n",
    "        labels = [\"Female\", \"Male\", \"Unknown\"], \n",
    "        autopct = \"%1.1f%%\")\n",
    "plt.title(\"Users' gender\")\n",
    "plt.show()"
   ]
  },
  {
   "cell_type": "code",
   "execution_count": null,
   "metadata": {},
   "outputs": [],
   "source": [
    "# number of ratings (general)\n",
    "plt.figure(figsize = (15, 5))\n",
    "plt.suptitle(\"Number of ratings (log-scaled)\")\n",
    "\n",
    "ax1 = plt.subplot(121)\n",
    "plt.hist(df_concise[\"inRating_count\"], bins = 25, log = True)\n",
    "plt.title(\"Received\")\n",
    "plt.xlabel(\"Number of ratings\")\n",
    "plt.ylabel(\"Number of users\")\n",
    "\n",
    "plt.subplot(122, sharey = ax1)\n",
    "plt.hist(df_concise[\"outRating_count\"], bins = 25, log = True)\n",
    "plt.title(\"Given\")\n",
    "plt.xlabel(\"Number of ratings\")\n",
    "\n",
    "plt.show()\n",
    "\n",
    "print(\"Received ratings\")\n",
    "print(\"\\tmean: {0:.2f}\".format(df_concise[\"inRating_count\"].mean()))\n",
    "print(\"\\tvariance: {0:.2f}\".format(df_concise[\"inRating_count\"].std()))\n",
    "print(\"Given ratings\")\n",
    "print(\"\\tmean: {0:.2f}\".format(df_concise[\"outRating_count\"].mean()))\n",
    "print(\"\\tvariance: {0:.2f}\".format(df_concise[\"outRating_count\"].std()))\n",
    "\n",
    "# number of ratings (by gender)\n",
    "plt.figure(figsize = (15,15))\n",
    "plt.suptitle(\"Number of ratings by gender (log-scaled)\")\n",
    "\n",
    "idx = 1\n",
    "ax1 = None\n",
    "for i in [\"M\", \"F\", \"U\"]:\n",
    "    inRating = df_concise[df_concise[\"user_gender\"] == i][\"inRating_count\"]\n",
    "    outRating = df_concise[df_concise[\"user_gender\"] == i][\"outRating_count\"]\n",
    "    \n",
    "    if ax1 is None:\n",
    "        ax1 = plt.subplot(3, 2, idx)\n",
    "    else:\n",
    "        plt.subplot(3, 2, idx, sharey = ax1)\n",
    "    plt.hist(inRating, bins = 25, log = True, )\n",
    "    plt.title(\"Received ({})\".format(i))\n",
    "    plt.xlabel(\"Number of ratings\")\n",
    "    plt.ylabel(\"Number of users\")\n",
    "\n",
    "    plt.subplot(3, 2, idx + 1, sharey = ax1)\n",
    "    plt.hist(outRating, bins = 25, log = True)\n",
    "    plt.title(\"Given ({})\".format(i))\n",
    "    plt.xlabel(\"Number of ratings\")\n",
    "    plt.ylabel(\"Number of users\")\n",
    "    \n",
    "    print(\"Received ratings ({})\".format(i))\n",
    "    print(\"\\tmean: {0:.2f}\".format(inRating.mean()))\n",
    "    print(\"\\tvariance: {0:.2f}\".format(inRating.std()))\n",
    "    print(\"Given ratings ({})\".format(i))\n",
    "    print(\"\\tmean: {0:.2f}\".format(outRating.mean()))\n",
    "    print(\"\\tvariance: {0:.2f}\".format(outRating.std()))\n",
    "    \n",
    "    idx += 2\n",
    "\n",
    "plt.show()"
   ]
  },
  {
   "cell_type": "code",
   "execution_count": null,
   "metadata": {},
   "outputs": [],
   "source": [
    "inRating = df_concise[df_concise[\"inRating_mean\"].notna()][\"inRating_mean\"]\n",
    "outRating = df_concise[df_concise[\"outRating_mean\"].notna()][\"outRating_mean\"]\n",
    "\n",
    "plt.figure(figsize = (15, 5))\n",
    "plt.suptitle(\"Mean of ratings\")\n",
    "\n",
    "ax1 = plt.subplot(121)\n",
    "plt.hist(inRating, bins = 25)\n",
    "plt.title(\"Received\")\n",
    "plt.xlabel(\"Mean of the rating\")\n",
    "plt.ylabel(\"Number of accounts\")\n",
    "\n",
    "plt.subplot(122, sharey = ax1)\n",
    "plt.hist(outRating, bins = 25)\n",
    "plt.title(\"Given\")\n",
    "plt.xlabel(\"Mean of the rating\")\n",
    "plt.ylabel(\"Number of accounts\")\n",
    "\n",
    "plt.show()\n",
    "\n",
    "print(\"Received ratings\")\n",
    "print(\"\\tmean: {0:.2f}\".format(inRating.mean()))\n",
    "print(\"\\tvariance: {0:.2f}\".format(inRating.std()))\n",
    "print(\"Given ratings\")\n",
    "print(\"\\tmean: {0:.2f}\".format(outRating.mean()))\n",
    "print(\"\\tvariance: {0:.2f}\".format(outRating.std()))\n",
    "\n",
    "# separated by gender\n",
    "plt.figure(figsize = (15,15))\n",
    "plt.suptitle(\"Mean of ratings by gender\")\n",
    "\n",
    "idx = 1\n",
    "ax1 = None\n",
    "for i in [\"M\", \"F\", \"U\"]:\n",
    "    inRating = df_concise[(df_concise[\"user_gender\"] == i) & (df_concise[\"inRating_mean\"].notna())][\"inRating_mean\"]\n",
    "    outRating = df_concise[(df_concise[\"user_gender\"] == i) & (df_concise[\"outRating_mean\"].notna())][\"outRating_mean\"]\n",
    "    \n",
    "    if ax1 is None:\n",
    "        ax1 = plt.subplot(3, 2, idx)\n",
    "    else:\n",
    "        plt.subplot(3, 2, idx, sharey = ax1)\n",
    "    plt.hist(inRating, bins = 25)\n",
    "    plt.title(\"Received ({})\".format(i))\n",
    "    plt.xlabel(\"Mean of the rating\")\n",
    "    plt.ylabel(\"Number of accounts\")\n",
    "\n",
    "    plt.subplot(3, 2, idx + 1, sharey = ax1)\n",
    "    plt.hist(outRating, bins = 25)\n",
    "    plt.title(\"Given ({})\".format(i))\n",
    "    plt.xlabel(\"Mean of the rating\")\n",
    "    plt.ylabel(\"Number of users\")\n",
    "    \n",
    "    print(\"Received ratings ({})\".format(i))\n",
    "    print(\"\\tmean: {0:.2f}\".format(inRating.mean()))\n",
    "    print(\"\\tvariance: {0:.2f}\".format(inRating.std()))\n",
    "    print(\"Given ratings ({})\".format(i))\n",
    "    print(\"\\tmean: {0:.2f}\".format(outRating.mean()))\n",
    "    print(\"\\tvariance: {0:.2f}\".format(outRating.std()))\n",
    "    \n",
    "    idx += 2\n",
    "\n",
    "plt.show()"
   ]
  },
  {
   "cell_type": "code",
   "execution_count": null,
   "metadata": {
    "scrolled": false
   },
   "outputs": [],
   "source": [
    "# Given ratings\n",
    "def get_title(name, df):\n",
    "    mu = np.round(df.mean(), 2)\n",
    "    sd = np.round(df.std(), 2)\n",
    "    return \"{} - mu = {}, sd = {}\".format(name, mu, sd)\n",
    "\n",
    "data = [\n",
    "    df[\"rating_weight\"],\n",
    "    df[df[\"user_gender\"] == \"F\"][\"rating_weight\"],\n",
    "    df[df[\"user_gender\"] == \"M\"][\"rating_weight\"],\n",
    "    df[df[\"user_gender\"] == \"U\"][\"rating_weight\"]\n",
    "]\n",
    "\n",
    "titles = [\n",
    "    \"All\",\n",
    "    \"Females\",\n",
    "    \"Males\",\n",
    "    \"Unknown\"\n",
    "]\n",
    "\n",
    "plt.figure(figsize = (15, 10))\n",
    "for i in range(len(data)):\n",
    "    plt.subplot(2, 2, i + 1)\n",
    "    plt.hist(data[i], bins = 10)\n",
    "    plt.title(get_title(titles[i], data[i]))\n",
    "\n",
    "plt.show()"
   ]
  },
  {
   "cell_type": "code",
   "execution_count": null,
   "metadata": {},
   "outputs": [],
   "source": [
    "display(df_concise.sort_values(\"outRating_count\", ascending = False).head(10))\n",
    "display(df_concise.sort_values(\"inRating_count\", ascending = False).head(10))"
   ]
  },
  {
   "cell_type": "code",
   "execution_count": null,
   "metadata": {},
   "outputs": [],
   "source": [
    "df_sample = df.sample(1000)\n",
    "H = nx.from_pandas_edgelist(df_sample, source = \"user_id\", target = \"rating_profile\", edge_attr = \"user_gender\", create_using=nx.DiGraph())\n",
    "print(\"average clustering:\", nx.average_clustering(H))"
   ]
  },
  {
   "cell_type": "markdown",
   "metadata": {},
   "source": [
    "## Graph Analysis"
   ]
  },
  {
   "cell_type": "code",
   "execution_count": null,
   "metadata": {},
   "outputs": [],
   "source": [
    "# centralities\n",
    "degc = nx.degree_centrality(H)\n",
    "#betw = nx.betweenness_centrality(H)\n",
    "clos = nx.closeness_centrality(H)\n",
    "eig = nx.eigenvector_centrality_numpy(H)\n",
    "\n",
    "centrality = pd.DataFrame({\"degree\": degc, \"closeness\": clos, \"eigenvector\": eig})\n",
    "sns.pairplot(centrality)"
   ]
  },
  {
   "cell_type": "code",
   "execution_count": null,
   "metadata": {},
   "outputs": [],
   "source": [
    "# connected components\n",
    "print(\"number of strongly connected components:\", nx.number_strongly_connected_components(H))\n",
    "print(\"Is weakly connected:\", nx.is_weakly_connected(H))\n",
    "components = list(nx.strongly_connected_components(H))"
   ]
  },
  {
   "cell_type": "code",
   "execution_count": null,
   "metadata": {},
   "outputs": [],
   "source": [
    "len(H.nodes)\n",
    "print(len(components))"
   ]
  },
  {
   "cell_type": "code",
   "execution_count": null,
   "metadata": {
    "scrolled": false
   },
   "outputs": [],
   "source": [
    "# Takes 5-10 minutes\n",
    "\n",
    "plt.figure(3, figsize=(20,20)) \n",
    "nx.draw_spring(H, node_size=6, width=0.08)\n",
    "plt.show()\n",
    "#plt.savefig('ratings_sub100.png')"
   ]
  }
 ],
 "metadata": {
  "kernelspec": {
   "display_name": "Python 3",
   "language": "python",
   "name": "python3"
  },
  "language_info": {
   "codemirror_mode": {
    "name": "ipython",
    "version": 3
   },
   "file_extension": ".py",
   "mimetype": "text/x-python",
   "name": "python",
   "nbconvert_exporter": "python",
   "pygments_lexer": "ipython3",
   "version": "3.7.6"
  }
 },
 "nbformat": 4,
 "nbformat_minor": 2
}
